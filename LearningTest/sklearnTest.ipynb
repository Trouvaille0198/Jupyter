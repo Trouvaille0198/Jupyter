{
 "cells": [
  {
   "cell_type": "code",
   "execution_count": 44,
   "metadata": {},
   "outputs": [],
   "source": [
    "from sklearn.preprocessing import MinMaxScaler\n",
    "import pandas as pd"
   ]
  },
  {
   "cell_type": "code",
   "execution_count": 60,
   "metadata": {},
   "outputs": [
    {
     "name": "stdout",
     "output_type": "stream",
     "text": [
      "最小值最大值归一化处理的结果：\n",
      " [[0.43582641 0.58819286 0.53237967]\n",
      " [0.         0.48794044 1.        ]\n",
      " [0.19067405 0.         0.43571351]\n",
      " [1.         1.         0.19139157]\n",
      " [0.3933518  0.01947089 0.        ]]\n"
     ]
    }
   ],
   "source": [
    "path = \"../Data/Dating.txt\"\n",
    "data = pd.read_csv(path)\n",
    "# 1、实例化一个转换器类\n",
    "transfer = MinMaxScaler(feature_range=(0, 1))# 默认 MIN=0, MAX=1\n",
    "# 2、调用fit_transform\n",
    "data = transfer.fit_transform(data[['milage','Liters','Consumtime']])# 需要传numpy array格式, 返回array\n",
    "print(\"最小值最大值归一化处理的结果：\\n\", data)"
   ]
  },
  {
   "cell_type": "code",
   "execution_count": 65,
   "metadata": {},
   "outputs": [
    {
     "name": "stdout",
     "output_type": "stream",
     "text": [
      "标准化的结果:\n",
      " [[ 0.0947602   0.44990013  0.29573441]\n",
      " [-1.20166916  0.18312874  1.67200507]\n",
      " [-0.63448132 -1.11527928  0.01123265]\n",
      " [ 1.77297701  1.54571769 -0.70784025]\n",
      " [-0.03158673 -1.06346729 -1.27113187]]\n",
      "每一列特征的平均值：\n",
      " [3.8988000e+04 6.3478996e+00 7.9924800e-01]\n",
      "每一列特征的方差：\n",
      " [4.15683072e+08 1.93505309e+01 2.73652475e-01]\n"
     ]
    }
   ],
   "source": [
    "import pandas as pd\n",
    "from sklearn.preprocessing import StandardScaler\n",
    "\n",
    "data = pd.read_csv(path)\n",
    "\n",
    "# 1、实例化一个转换器类\n",
    "transfer = StandardScaler() # 值都在0附近,所以有负数是正常的\n",
    "# 2、调用fit_transform\n",
    "data = transfer.fit_transform(data[['milage','Liters','Consumtime']]) \n",
    "\n",
    "print(\"标准化的结果:\\n\", data)\n",
    "print(\"每一列特征的平均值：\\n\", transfer.mean_)\n",
    "print(\"每一列特征的方差：\\n\", transfer.var_)"
   ]
  },
  {
   "cell_type": "code",
   "execution_count": 91,
   "metadata": {},
   "outputs": [
    {
     "name": "stdout",
     "output_type": "stream",
     "text": [
      "删除低方差特征的结果：\n",
      " [[4.0920000e+04 8.3269760e+00]\n",
      " [1.4488000e+04 7.1534690e+00]\n",
      " [2.6052000e+04 1.4418710e+00]\n",
      " [7.5136000e+04 1.3147394e+01]\n",
      " [3.8344000e+04 1.6697880e+00]]\n",
      "形状：\n",
      " (5, 2)\n"
     ]
    }
   ],
   "source": [
    "from sklearn.feature_selection import VarianceThreshold\n",
    "import pandas as pd\n",
    "\n",
    "path=\"../Data/Dating.txt\"\n",
    "data = pd.read_csv(path)\n",
    "\n",
    "# 1、实例化一个转换器类\n",
    "transfer = VarianceThreshold(threshold=1)\n",
    "# 2、调用fit_transform\n",
    "data = transfer.fit_transform(data.iloc[:, 0:-1])\n",
    "\n",
    "print(\"删除低方差特征的结果：\\n\", data)\n",
    "print(\"形状：\\n\", data.shape)"
   ]
  },
  {
   "cell_type": "code",
   "execution_count": 94,
   "metadata": {},
   "outputs": [
    {
     "name": "stdout",
     "output_type": "stream",
     "text": [
      "milage和Liters的相关系数为:\n",
      " (0.660861943290103, 0.2246299034335304)\n",
      "milage和Liters的相关系数为:\n",
      " (-0.6406267138718624, 0.2441916485876286)\n"
     ]
    }
   ],
   "source": [
    "from scipy.stats import pearsonr\n",
    "import pandas as pd\n",
    "\n",
    "path=\"../Data/Dating.txt\"\n",
    "data = pd.read_csv(path)\n",
    "\n",
    "# 皮尔逊相关系数范围[-1,1], 如果大于0就是正相关(越接近1就越相关), 反之亦然\n",
    "r = pearsonr(data[\"milage\"], data[\"Liters\"])\n",
    "print(\"milage和Liters的相关系数为:\\n\", r)\n",
    "\n",
    "r = pearsonr(data[\"milage\"], data[\"Consumtime\"])\n",
    "print(\"milage和Liters的相关系数为:\\n\", r)"
   ]
  },
  {
   "cell_type": "code",
   "execution_count": 105,
   "metadata": {},
   "outputs": [
    {
     "name": "stdout",
     "output_type": "stream",
     "text": [
      "(主成分分析)PCA降维:\n",
      " [[-3.57495904]\n",
      " [-3.17447323]\n",
      " [ 6.74943227]]\n"
     ]
    }
   ],
   "source": [
    "from sklearn.decomposition import PCA\n",
    "\n",
    "data = [[2, 8, 4, 5], [3, 8, 5, 5], [10, 5, 1, 0]]  # 3*4矩阵 包含四个特征\n",
    "\n",
    "transfer = PCA(n_components=0.95) # N为整数就是转为多少个特征  保留的至少都比原特征值少一个\n",
    "data_new = transfer.fit_transform(data)\n",
    "print(\"(主成分分析)PCA降维:\\n\", data_new)"
   ]
  },
  {
   "cell_type": "code",
   "execution_count": 106,
   "metadata": {},
   "outputs": [],
   "source": [
    "from sklearn.cluster import KMeans\n",
    "from sklearn.metrics import silhouette_score # 所有模型评估都在metrics里面"
   ]
  },
  {
   "cell_type": "code",
   "execution_count": 194,
   "metadata": {},
   "outputs": [
    {
     "data": {
      "image/png": "[encoded data removed]",
      "text/plain": [
       "<Figure size 432x288 with 1 Axes>"
      ]
     },
     "metadata": {
      "needs_background": "light"
     },
     "output_type": "display_data"
    }
   ],
   "source": [
    "import numpy as np\n",
    "import matplotlib.pyplot as plt\n",
    "%matplotlib inline\n",
    "from sklearn.datasets.samples_generator import make_blobs\n",
    "# X为样本特征，Y为样本簇类别， 共1000个样本，每个样本2个特征，共4个簇，簇中心在[-1,-1], [0,0],[1,1], [2,2]， 簇方差分别为[0.4, 0.2, 0.2]\n",
    "X, y = make_blobs(n_samples=1000, n_features=2, centers=[[-1,-1], [0,0], [1,1], [2,2]], cluster_std=[0.1, 0.1, 0.1, 0.1])\n",
    "plt.scatter(X[:, 0], X[:, 1], marker='o')\n",
    "plt.show()"
   ]
  },
  {
   "cell_type": "code",
   "execution_count": 195,
   "metadata": {},
   "outputs": [
    {
     "data": {
      "image/png": "[encoded data removed]",
      "text/plain": [
       "<Figure size 432x288 with 1 Axes>"
      ]
     },
     "metadata": {
      "needs_background": "light"
     },
     "output_type": "display_data"
    }
   ],
   "source": [
    "from sklearn.cluster import KMeans\n",
    "\n",
    "#y_pred = KMeans(n_clusters=4).fit_predict(X)\n",
    "estimator = KMeans(n_clusters=4, init='k-means++')\n",
    "estimator.fit(X)\n",
    "y_pred = estimator.predict(X)\n",
    "\n",
    "plt.scatter(X[:, 0], X[:, 1], c=y_pred)\n",
    "plt.show()"
   ]
  },
  {
   "cell_type": "code",
   "execution_count": 196,
   "metadata": {},
   "outputs": [
    {
     "name": "stdout",
     "output_type": "stream",
     "text": [
      "模型轮廓系数为(1 最好, -1 最差): 0.870480592568606\n"
     ]
    }
   ],
   "source": [
    "from sklearn.metrics import silhouette_score # 所有模型评估都在metrics里面\n",
    "score = silhouette_score(X, y_pred)\n",
    "print(\"模型轮廓系数为(1 最好, -1 最差):\", score)"
   ]
  },
  {
   "cell_type": "code",
   "execution_count": null,
   "metadata": {},
   "outputs": [],
   "source": []
  }
 ],
 "metadata": {
  "kernelspec": {
   "display_name": "Python 3",
   "language": "python",
   "name": "python3"
  },
  "language_info": {
   "codemirror_mode": {
    "name": "ipython",
    "version": 3
   },
   "file_extension": ".py",
   "mimetype": "text/x-python",
   "name": "python",
   "nbconvert_exporter": "python",
   "pygments_lexer": "ipython3",
   "version": "3.7.6"
  }
 },
 "nbformat": 4,
 "nbformat_minor": 4
}
