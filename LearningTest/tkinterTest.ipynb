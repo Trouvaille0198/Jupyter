{
 "cells": [
  {
   "cell_type": "code",
   "execution_count": 30,
   "metadata": {},
   "outputs": [],
   "source": [
    "from tkinter import *\n",
    "\n",
    "window = Tk()\n",
    "window.title(\"First Window\")\n",
    "window.geometry(\"350x200\")\n",
    "\n",
    "lbl = Label(window, text=\"Hello\")\n",
    "lbl.grid(column=0, row=0)\n",
    "\n",
    "txt = Entry(window, width=10)\n",
    "txt.grid(column=1, row=0)\n",
    "txt.focus()\n",
    "\n",
    "def clicked():\n",
    "    res = \"Welcome to \" + txt.get()\n",
    "    lbl.configure(text=res)\n",
    "\n",
    "btn = Button(window, text=\"Click Me\")\n",
    "btn = Button(window, text=\"Click Me\", bg=\"black\", fg=\"white\",command=clicked)\n",
    "btn.grid(column=2, row=0)\n",
    "window.mainloop()"
   ]
  },
  {
   "cell_type": "code",
   "execution_count": 29,
   "metadata": {},
   "outputs": [],
   "source": [
    "from tkinter import *\n",
    "from tkinter.ttk import *\n",
    "\n",
    "window = Tk()\n",
    "window.title(\"First Window\")\n",
    "window.geometry(\"350x200\")\n",
    "combo = Combobox(window)\n",
    "combo['values'] = (1,2,3,4,5,\"Text\")\n",
    "combo.current(1)\n",
    "combo.grid(column=0, row=0)\n",
    "window.mainloop()"
   ]
  },
  {
   "cell_type": "code",
   "execution_count": 31,
   "metadata": {},
   "outputs": [],
   "source": [
    "from tkinter import *\n",
    "from tkinter.ttk import *\n",
    "\n",
    "window = Tk()\n",
    "window.title(\"First Window\")\n",
    "window.geometry(\"350x200\")\n",
    "chk_state = BooleanVar()\n",
    "chk_state.set(True) # Set check state\n",
    "chk = Checkbutton(window, text=\"Choose\", var=chk_state)\n",
    "chk.grid(column=0, row=0)\n",
    "window.mainloop()"
   ]
  },
  {
   "cell_type": "code",
   "execution_count": 32,
   "metadata": {},
   "outputs": [],
   "source": [
    "from tkinter import *\n",
    "from tkinter.ttk import *\n",
    "\n",
    "window = Tk()\n",
    "window.title(\"First Window\")\n",
    "window.geometry(\"350x200\")\n",
    "rad1 = Radiobutton(window, text=\"First\", value=1)\n",
    "rad2 = Radiobutton(window, text=\"Second\", value=2)\n",
    "rad3 = Radiobutton(window, text=\"Third\", value=3)\n",
    "rad1.grid(column=0, row=0)\n",
    "rad2.grid(column=1, row=0)\n",
    "rad3.grid(column=2, row=0)\n",
    "window.mainloop()"
   ]
  },
  {
   "cell_type": "code",
   "execution_count": 33,
   "metadata": {},
   "outputs": [],
   "source": [
    "from tkinter import *\n",
    "from tkinter.ttk import *\n",
    "\n",
    "window = Tk()\n",
    "window.title(\"First Window\")\n",
    "selected = IntVar()\n",
    "lbl = Label(window, text=\"Show Value\")\n",
    "rad1 = Radiobutton(window, text=\"First\", value=1, variable=selected)\n",
    "rad2 = Radiobutton(window, text=\"Second\", value=2, variable=selected)\n",
    "rad3 = Radiobutton(window, text=\"Third\", value=3, variable=selected)\n",
    "def clicked():\n",
    "    lbl.configure(text=selected.get())\n",
    "btn = Button(window, text=\"Click Me\", command=clicked)\n",
    "rad1.grid(column=0, row=0)\n",
    "rad2.grid(column=1, row=0)\n",
    "rad3.grid(column=2, row=0)\n",
    "btn.grid(column=4, row=0)\n",
    "lbl.grid(column=0, row=1)\n",
    "window.mainloop()"
   ]
  },
  {
   "cell_type": "code",
   "execution_count": 37,
   "metadata": {},
   "outputs": [],
   "source": [
    "from tkinter import *\n",
    "from tkinter import scrolledtext\n",
    "\n",
    "window = Tk()\n",
    "window.title(\"First Window\")\n",
    "window.geometry(\"350x200\")\n",
    "txt = scrolledtext.ScrolledText(window, width=40, height=10)\n",
    "txt.insert(INSERT, \"Text goes here\")\n",
    "txt.grid(column=0, row=0)\n",
    "window.mainloop()"
   ]
  },
  {
   "cell_type": "code",
   "execution_count": 38,
   "metadata": {},
   "outputs": [],
   "source": [
    "from tkinter import *\n",
    "from tkinter import messagebox\n",
    "\n",
    "window = Tk()\n",
    "window.title(\"First Window\")\n",
    "window.geometry(\"350x200\")\n",
    "def clicked():\n",
    "    messagebox.showinfo(\"Message title\", \"Message content\")\n",
    "btn = Button(window, text=\"Click here\", command=clicked)\n",
    "btn.grid(column=0, row=0)\n",
    "window.mainloop()"
   ]
  },
  {
   "cell_type": "code",
   "execution_count": 43,
   "metadata": {},
   "outputs": [],
   "source": [
    "from tkinter import *\n",
    "\n",
    "window = Tk()\n",
    "window.title(\"First Window\")\n",
    "window.geometry(\"350x200\")\n",
    "var = IntVar()\n",
    "var.set(36)\n",
    "spin = Spinbox(window, from_=0, to=100, width=5,textvariable=var)\n",
    "spin.grid(column=0, row=0)\n",
    "window.mainloop()"
   ]
  },
  {
   "cell_type": "code",
   "execution_count": 44,
   "metadata": {},
   "outputs": [],
   "source": [
    "from tkinter import *\n",
    "from tkinter.ttk import Progressbar\n",
    "from tkinter import ttk\n",
    "window = Tk()\n",
    "window.title(\"First Window\")\n",
    "window.geometry('350x200')\n",
    "style = ttk.Style()\n",
    "style.theme_use('default')\n",
    "style.configure(\"black.Horizontal.TProgressbar\", background='black')\n",
    "bar = Progressbar(window, length=200, style='black.Horizontal.TProgressbar')\n",
    "bar['value'] = 70\n",
    "bar.grid(column=0, row=0)\n",
    "window.mainloop()"
   ]
  },
  {
   "cell_type": "code",
   "execution_count": 46,
   "metadata": {},
   "outputs": [],
   "source": [
    "from tkinter import *\n",
    "from tkinter import filedialog\n",
    "import os\n",
    "\n",
    "window = Tk()\n",
    "window.title(\"First Window\")\n",
    "window.geometry('350x200')\n",
    "def clicked():\n",
    "    base_dir = os.getcwd()\n",
    "    file = filedialog.askopenfilenames(initialdir=os.path.dirname(base_dir))\n",
    "btn = Button(window, text=\"Click Me\", command=clicked)\n",
    "btn.grid(column=0, row=0)\n",
    "window.mainloop()"
   ]
  },
  {
   "cell_type": "code",
   "execution_count": 48,
   "metadata": {
    "jupyter": {
     "source_hidden": true
    }
   },
   "outputs": [
    {
     "name": "stdout",
     "output_type": "stream",
     "text": [
      "开始\n",
      "None\n",
      "\n"
     ]
    }
   ],
   "source": [
    "from tkinter import *\n",
    "from tkinter import messagebox\n",
    "from tkinter import simpledialog\n",
    "from tkinter import filedialog\n",
    "\n",
    "def ui_process():\n",
    "    root =Tk()\n",
    "    root.geometry(\"300x400+500+500\")\n",
    "\n",
    "#标签   \n",
    "    L_titile = Label(root,text='沈力风机股份有限公司',)\n",
    "    L_titile.config(font='Helvetica -15 bold',fg='blue')\n",
    "    L_titile.place(x=150,y=20,anchor=\"center\")\n",
    "    L_author = Label(root, text='作者:LCC')\n",
    "    L_author.config(font='Helvetica -10 bold')\n",
    "    L_author.place(x=250,y=380)\n",
    "\n",
    "#按钮\n",
    "    B_0 = Button(root, text=\"对话框\", command=CreatDialog)\n",
    "    B_0.place(x=90,y=200)\n",
    "    B_1 = Button(root, text=\"确定\", command=print)\n",
    "    B_1.place(x=150, y=200)\n",
    "    B_OK = Button(root,text=\"创建\",command=lambda:button_process(root))\n",
    "    B_OK.place(x=200,y=200)\n",
    "    B_NO = Button(root, text=\"取消\")\n",
    "    B_NO.place(x=250,y=200)\n",
    "\n",
    "#单选按钮\n",
    "    v = IntVar()\n",
    "    R_ONE=Radiobutton(root, text=\"One\", variable=v, value=1,command=lambda:Print_b(1)).place(x=60,y=150)\n",
    "    R_TWO=Radiobutton(root, text=\"Two\", variable=v, value=2,command=lambda:Print_b(2)).place(x=10,y=150)\n",
    "\n",
    "#滑块\n",
    "    W = Scale(root, from_=0, to=100,orient=HORIZONTAL)#orient=HORIZONTAL 横向，默认纵向\n",
    "    W.place(x=50,y=300)\n",
    "    # print(W.get())  #获取滑块值\n",
    "\n",
    "#菜单栏\n",
    "    menubar = Menu(root)\n",
    "    filemenu = Menu(menubar, tearoff=0)\n",
    "    filemenu.add_command(label=\"Open\", command=OpenFile)\n",
    "    filemenu.add_command(label=\"Save\", command=SaveFile)\n",
    "    # filemenu.add_separator()#分割线\n",
    "    filemenu.add_command(label=\"Exit\", command=root.quit)\n",
    "    menubar.add_cascade(label=\"File\", menu=filemenu)\n",
    "    root.config(menu=menubar)\n",
    "\n",
    "    mainloop()\n",
    "\n",
    "#按钮对应函数入口\n",
    "def button_process(root):\n",
    "    #创建消息框\n",
    "    messagebox.askokcancel('Python Tkinter', '确认创建窗口？')\n",
    "    messagebox.askquestion('Python Tkinter', \"确认创建窗口?\")\n",
    "    messagebox.askyesno('Python Tkinter', '是否创建窗口？')\n",
    "    messagebox.showerror('Python Tkinter', '未知错误')\n",
    "    messagebox.showinfo('Python Tkinter', 'hello world')\n",
    "    messagebox.showwarning('Python Tkinter', '电脑即将爆炸，请迅速离开')\n",
    "    root1 = Toplevel(root)\n",
    "\n",
    "def PrintHello():\n",
    "    print(\"hello\")\n",
    "\n",
    "def Print_b(a):\n",
    "    print(a)\n",
    "\n",
    "#创建对话框\n",
    "def CreatDialog():\n",
    "    world = simpledialog.askstring('Python Tkinter', 'Input String', initialvalue = 'Python Tkinter')\n",
    "    print(world)\n",
    "    # simpledialog.askinteger()\n",
    "    # simpledialog.askfloat()\n",
    "\n",
    "#文件操作的对话框\n",
    "def OpenFile():\n",
    "    f = filedialog.askopenfilename(title='打开文件', filetypes=[('Python', '*.py *.pyw'), ('All Files', '*')])\n",
    "    print(f)\n",
    "    #可使用os 模块运行文件\n",
    "def SaveFile():\n",
    "    f = filedialog.asksaveasfilename(title='保存文件', initialdir='d:\\mywork', initialfile='hello.py')\n",
    "    print(f)\n",
    "    #可调用OS模块保存\n",
    "if __name__ == \"__main__\":\n",
    "    print(\"开始\")\n",
    "    ui_process()"
   ]
  },
  {
   "cell_type": "code",
   "execution_count": 5,
   "metadata": {},
   "outputs": [],
   "source": [
    "from tkinter import *\n",
    "\n",
    "def say_hi():\n",
    "    print(\"hello ~ !\")\n",
    " \n",
    "root = Tk()\n",
    " \n",
    "frame1 = Frame(root)\n",
    "frame2 = Frame(root)\n",
    "root.title(\"tkinter frame\")\n",
    " \n",
    "label= Label(frame1,text=\"Label\",justify=LEFT)\n",
    "label.pack(side=LEFT)\n",
    " \n",
    "hi_there = Button(frame2,text=\"say hi~\",command=say_hi)\n",
    "hi_there.pack()\n",
    " \n",
    "frame1.pack(padx=1,pady=1)\n",
    "frame2.pack(padx=10,pady=10)\n",
    " \n",
    "root.mainloop()"
   ]
  },
  {
   "cell_type": "code",
   "execution_count": 18,
   "metadata": {},
   "outputs": [],
   "source": [
    "import tkinter as tk    # 引入tkinter库，并取个别名（即外号)tk\n",
    "\n",
    "root = tk.Tk()          # 创建窗口\n",
    "\n",
    "root['bg'] = 'red'      # 背景色，或root['background'] = 'red'\n",
    "\n",
    "root['height'] = 700     # 窗口的高\n",
    "root['width'] = 1000      # 窗口的宽\n",
    "\n",
    "root['highlightthickness'] = 100    # 加亮区域的宽度\n",
    "root['highlightcolor'] = 'yellow'   # 设置加亮区域在 有焦点 时的颜色\n",
    "root['highlightbackground'] = 'black' # 设置加亮区域在 无焦点 时的颜色\n",
    "# root.overrideredirect(True)\n",
    "root.geometry('1000x700+100+50')\n",
    "root.mainloop()         # 窗口循环显示"
   ]
  },
  {
   "cell_type": "code",
   "execution_count": 20,
   "metadata": {},
   "outputs": [],
   "source": [
    "import tkinter as tk\n",
    "\n",
    "root = tk.Tk()\n",
    "\n",
    "# 绑定的方法：点击窗口改变颜色\n",
    "def callback(event):\n",
    "    print('点击改变颜色')\n",
    "    if root['bg'] == 'black':\n",
    "        root['bg'] = 'white'\n",
    "    else:\n",
    "        root['bg'] = 'black'\n",
    "\n",
    "# 窗口绑定\n",
    "root.bind( '<Button-1>', callback )\n",
    "\n",
    "root.mainloop()"
   ]
  },
  {
   "cell_type": "code",
   "execution_count": 22,
   "metadata": {},
   "outputs": [
    {
     "name": "stdout",
     "output_type": "stream",
     "text": [
      "点击的键盘字符为： g\n"
     ]
    }
   ],
   "source": [
    "# 捕获键盘事件\n",
    "import tkinter as tk\n",
    " \n",
    "root = tk.Tk()\n",
    " \n",
    "def callback(event):\n",
    "        print(\"点击的键盘字符为：\", event.char)\n",
    " \n",
    "frame = tk.Frame(root, width = 200, height = 200)\n",
    "frame.bind(\"<Key>\", callback)\n",
    "frame.focus_set()\n",
    "frame.pack()\n",
    " \n",
    "root.mainloop()"
   ]
  },
  {
   "cell_type": "code",
   "execution_count": 26,
   "metadata": {},
   "outputs": [],
   "source": [
    "# 捕获鼠标在组件上的运动轨迹\n",
    "import tkinter as tk\n",
    " \n",
    "root = tk.Tk()\n",
    " \n",
    "def callback(event):\n",
    "        print(\"当前位置为：\", event.x, event.y)\n",
    "\n",
    "frame = tk.Frame(root, width = 200, height = 200)\n",
    "frame.bind(\"<B1-Motion>\", callback)\n",
    "frame.pack()\n",
    " \n",
    "root.mainloop()"
   ]
  },
  {
   "cell_type": "code",
   "execution_count": 1,
   "metadata": {},
   "outputs": [],
   "source": [
    "import tkinter as tk\n",
    " \n",
    "master = tk.Tk()\n",
    " \n",
    "w = tk.Label(master, text=\"Hello World!\")\n",
    "w.pack()\n",
    " \n",
    "master.mainloop()"
   ]
  },
  {
   "cell_type": "code",
   "execution_count": 3,
   "metadata": {},
   "outputs": [
    {
     "name": "stdout",
     "output_type": "stream",
     "text": [
      "我被调用了！\n"
     ]
    }
   ],
   "source": [
    "import tkinter as tk\n",
    " \n",
    "master = tk.Tk()\n",
    " \n",
    "def callback():\n",
    "    print(\"我被调用了！\")\n",
    " \n",
    "b = tk.Button(master, text=\"执行\", command=callback)\n",
    "b.pack()\n",
    " \n",
    "master.mainloop()"
   ]
  },
  {
   "cell_type": "code",
   "execution_count": 7,
   "metadata": {},
   "outputs": [],
   "source": [
    "from tkinter import *\n",
    " \n",
    "master = Tk()\n",
    " \n",
    "var = IntVar()\n",
    " \n",
    "c = Checkbutton(master, text=\"我是帅锅\", variable=var)\n",
    "c.pack()\n",
    " \n",
    "mainloop()"
   ]
  },
  {
   "cell_type": "code",
   "execution_count": 11,
   "metadata": {},
   "outputs": [],
   "source": [
    "def __init__(self, master):\n",
    "    self.var = tk.IntVar()\n",
    "    c = tk.Checkbutton(master, text=\"DUANG~\", variable=self.var, command=self.cb)\n",
    "    c.pack()\n",
    "\n",
    "def cb(self, event):\n",
    "    print(\"variable is\", self.var.get())"
   ]
  },
  {
   "cell_type": "code",
   "execution_count": 12,
   "metadata": {},
   "outputs": [],
   "source": [
    "import tkinter as tk\n",
    " \n",
    "master = tk.Tk()\n",
    " \n",
    "v = tk.IntVar()\n",
    "v.set(2)\n",
    " \n",
    "tk.Radiobutton(master, text=\"One\", variable=v, value=1).pack(anchor=\"w\")\n",
    "tk.Radiobutton(master, text=\"Two\", variable=v, value=2).pack(anchor=\"w\")\n",
    "tk.Radiobutton(master, text=\"Three\", variable=v, value=3).pack(anchor=\"w\")\n",
    " \n",
    "master.mainloop()"
   ]
  },
  {
   "cell_type": "code",
   "execution_count": 22,
   "metadata": {},
   "outputs": [],
   "source": [
    "import tkinter as tk\n",
    " \n",
    "master = tk.Tk()\n",
    " \n",
    "GIRLS = [\n",
    "    (\"西施\", 1),\n",
    "    (\"王昭君\", 2),\n",
    "    (\"貂蝉\", 3),\n",
    "    (\"杨玉环\", 4)]\n",
    " \n",
    "v = tk.IntVar()\n",
    " \n",
    "for girl, num in GIRLS:\n",
    "    b = tk.Radiobutton(master, text=girl, variable=v, value=num)\n",
    "    b.pack(anchor=\"w\")\n",
    "\n",
    "master.mainloop()"
   ]
  },
  {
   "cell_type": "code",
   "execution_count": 23,
   "metadata": {},
   "outputs": [],
   "source": [
    "import tkinter as tk\n",
    " \n",
    "master = tk.Tk()\n",
    " \n",
    "tk.Label(text=\"天王盖地虎\").pack()\n",
    " \n",
    "separator = tk.Frame(height=2, bd=1, relief=\"sunken\")\n",
    "separator.pack(fill=\"x\", padx=5, pady=5)\n",
    " \n",
    "tk.Label(text=\"小鸡炖蘑菇\").pack()\n",
    " \n",
    "master.mainloop()"
   ]
  },
  {
   "cell_type": "code",
   "execution_count": 24,
   "metadata": {},
   "outputs": [],
   "source": [
    "import tkinter as tk\n",
    " \n",
    "master = tk.Tk()\n",
    " \n",
    "group = tk.LabelFrame(master, text=\"你从哪里得知CSDN？\", padx=5, pady=5)\n",
    "group.pack(padx=10, pady=10)\n",
    " \n",
    "v = tk.IntVar()\n",
    "r1 = tk.Radiobutton(group, text=\"同学/同事介绍\", variable=v, value=1).pack(anchor=\"w\")\n",
    "r2 = tk.Radiobutton(group, text=\"老婆大人介绍\", variable=v, value=2).pack(anchor=\"w\")\n",
    "r3 = tk.Radiobutton(group, text=\"老师/学长介绍\", variable=v, value=3).pack(anchor=\"w\")\n",
    " \n",
    "master.mainloop()"
   ]
  },
  {
   "cell_type": "code",
   "execution_count": 25,
   "metadata": {},
   "outputs": [],
   "source": [
    "import tkinter as tk\n",
    " \n",
    "master = tk.Tk()\n",
    " \n",
    "e = tk.Entry(master)\n",
    "e.pack(padx=20, pady=20)\n",
    " \n",
    "e.delete(0, \"end\")\n",
    "e.insert(0, \"默认文本...\")\n",
    " \n",
    "master.mainloop()"
   ]
  },
  {
   "cell_type": "code",
   "execution_count": 26,
   "metadata": {},
   "outputs": [
    {
     "name": "stdout",
     "output_type": "stream",
     "text": [
      "作品：《让人》\n",
      "作者：让人\n"
     ]
    }
   ],
   "source": [
    "\n",
    "import tkinter as tk\n",
    " \n",
    "master = tk.Tk()\n",
    " \n",
    "tk.Label(master, text=\"作品：\").grid(row=0)\n",
    "tk.Label(master, text=\"作者：\").grid(row=1)\n",
    " \n",
    "e1 = tk.Entry(master)\n",
    "e2 = tk.Entry(master)\n",
    "e1.grid(row=0, column=1, padx=10, pady=5)\n",
    "e2.grid(row=1, column=1, padx=10, pady=5)\n",
    " \n",
    "def show():\n",
    "    print(\"作品：《%s》\" % e1.get())\n",
    "    print(\"作者：%s\" % e2.get())\n",
    "    e1.delete(0, \"end\")\n",
    "    e2.delete(0, \"end\")\n",
    " \n",
    "tk.Button(master, text=\"获取信息\", width=10, command=show).grid(row=3, column=0, sticky=\"w\", padx=10, pady=5)\n",
    "tk.Button(master, text=\"退出\", width=10, command=master.quit).grid(row=3, column=1, sticky=\"e\", padx=10, pady=5)\n",
    " \n",
    "master.mainloop()"
   ]
  },
  {
   "cell_type": "code",
   "execution_count": 27,
   "metadata": {},
   "outputs": [],
   "source": [
    "import tkinter as tk\n",
    " \n",
    "root = tk.Tk()\n",
    " \n",
    "text = tk.Text(root)\n",
    "text.pack()\n",
    " \n",
    "# \"insert\" 索引表示插入光标当前的位置\n",
    "text.insert(\"insert\", \"I love \")\n",
    "text.insert(\"end\", \"Python.com!\")\n",
    " \n",
    "root.mainloop()"
   ]
  },
  {
   "cell_type": "code",
   "execution_count": 28,
   "metadata": {},
   "outputs": [],
   "source": [
    "import tkinter as tk\n",
    " \n",
    "root = tk.Tk()\n",
    " \n",
    "w1 = tk.Message(root, text=\"这是一则消息\", width=100)\n",
    "w1.pack()\n",
    " \n",
    "w2 = tk.Message(root, text=\"这是一则骇人听闻的长长长长长消息！\", width=100)\n",
    "w2.pack()\n",
    " \n",
    "root.mainloop()"
   ]
  },
  {
   "cell_type": "code",
   "execution_count": 30,
   "metadata": {},
   "outputs": [],
   "source": [
    "import tkinter as tk\n",
    " \n",
    "root = tk.Tk()\n",
    " \n",
    "def create():\n",
    "    top = tk.Toplevel()\n",
    "    top.title(\"Python\")\n",
    " \n",
    "    msg = tk.Message(top, text=\"I love Python!\")\n",
    "    msg.pack()\n",
    " \n",
    "tk.Button(root, text=\"创建顶级窗口\", command=create).pack()\n",
    " \n",
    "root.mainloop()"
   ]
  },
  {
   "cell_type": "code",
   "execution_count": 2,
   "metadata": {},
   "outputs": [
    {
     "name": "stdout",
     "output_type": "stream",
     "text": [
      "~被调用了~\n",
      "~被调用了~\n"
     ]
    }
   ],
   "source": [
    "import tkinter as tk\n",
    " \n",
    "root = tk.Tk()\n",
    " \n",
    "def callback():\n",
    "    print(\"~被调用了~\")\n",
    " \n",
    "# 创建一个顶级菜单\n",
    "menubar = tk.Menu(root)\n",
    " \n",
    "# 创建一个下拉菜单“文件”，然后将它添加到顶级菜单中\n",
    "filemenu = tk.Menu(menubar, tearoff=False)\n",
    "filemenu.add_command(label=\"打开\", command=callback)\n",
    "filemenu.add_command(label=\"保存\", command=callback)\n",
    "filemenu.add_separator()\n",
    "filemenu.add_command(label=\"退出\", command=root.quit)\n",
    "menubar.add_cascade(label=\"文件\", menu=filemenu)\n",
    " \n",
    "# 创建另一个下拉菜单“编辑”，然后将它添加到顶级菜单中\n",
    "editmenu = tk.Menu(menubar, tearoff=False)\n",
    "editmenu.add_command(label=\"剪切\", command=callback)\n",
    "editmenu.add_command(label=\"拷贝\", command=callback)\n",
    "editmenu.add_command(label=\"粘贴\", command=callback)\n",
    "menubar.add_cascade(label=\"编辑\", menu=editmenu)\n",
    " \n",
    "# 显示菜单\n",
    "root.config(menu=menubar)\n",
    " \n",
    "root.mainloop()"
   ]
  },
  {
   "cell_type": "code",
   "execution_count": 2,
   "metadata": {},
   "outputs": [],
   "source": [
    "\n",
    "import tkinter as tk\n",
    " \n",
    "root = tk.Tk()\n",
    " \n",
    "listbox = tk.Listbox(root)\n",
    "listbox.pack(fill=\"both\", expand=True)\n",
    " \n",
    "for i in range(10):\n",
    "        listbox.insert(\"end\", str(i))\n",
    " \n",
    "root.mainloop()"
   ]
  },
  {
   "cell_type": "code",
   "execution_count": 3,
   "metadata": {},
   "outputs": [],
   "source": [
    "import tkinter as tk\n",
    " \n",
    "root = tk.Tk()\n",
    " \n",
    "# column 默认值是 0\n",
    "tk.Label(root, text=\"用户名\").grid(row=0)\n",
    "tk.Label(root, text=\"密码\").grid(row=1)\n",
    " \n",
    "tk.Entry(root).grid(row=0, column=1)\n",
    "tk.Entry(root, show=\"*\").grid(row=1, column=1)\n",
    " \n",
    "root.mainloop()"
   ]
  },
  {
   "cell_type": "code",
   "execution_count": 4,
   "metadata": {},
   "outputs": [],
   "source": [
    "import tkinter as tk\n",
    " \n",
    "root = tk.Tk()\n",
    " \n",
    "def callback():\n",
    "    print(\"正中靶心\")\n",
    " \n",
    "tk.Button(root, text=\"点我\", command=callback).place(relx=0.5, rely=0.5, anchor=\"center\")\n",
    " \n",
    "root.mainloop()"
   ]
  },
  {
   "cell_type": "code",
   "execution_count": 9,
   "metadata": {},
   "outputs": [],
   "source": [
    "import tkinter as tk\n",
    "from tkinter import messagebox\n",
    " \n",
    "messagebox.askokcancel(\"Python Demo\", \"发射核弹？\")\n",
    " \n",
    "tk.mainloop()"
   ]
  },
  {
   "cell_type": "code",
   "execution_count": 15,
   "metadata": {},
   "outputs": [
    {
     "name": "stdout",
     "output_type": "stream",
     "text": [
      "\n"
     ]
    }
   ],
   "source": [
    "import tkinter as tk\n",
    "from tkinter import filedialog\n",
    "root = tk.Tk()\n",
    " \n",
    "def callback():\n",
    "    fileName = filedialog.askopenfilename()\n",
    "    print(fileName)\n",
    " \n",
    "tk.Button(root, text=\"打开文件\", command=callback).pack()\n",
    " \n",
    "root.mainloop()"
   ]
  },
  {
   "cell_type": "code",
   "execution_count": 13,
   "metadata": {},
   "outputs": [
    {
     "name": "stdout",
     "output_type": "stream",
     "text": [
      "(None, None)\n"
     ]
    }
   ],
   "source": [
    "import tkinter as tk\n",
    "from tkinter import colorchooser\n",
    " \n",
    "root = tk.Tk()\n",
    " \n",
    "def callback():\n",
    "    fileName = colorchooser.askcolor()\n",
    "    print(fileName)\n",
    " \n",
    "tk.Button(root, text=\"选择颜色\", command=callback).pack()\n",
    " \n",
    "root.mainloop()"
   ]
  },
  {
   "cell_type": "code",
   "execution_count": 2,
   "metadata": {},
   "outputs": [],
   "source": [
    "import tkinter as tk\n",
    "  \n",
    "  \n",
    "class basedesk():\n",
    " def __init__(self,master):\n",
    "  self.root = master\n",
    "  self.root.config()\n",
    "  self.root.title('Base page')\n",
    "  self.root.geometry('200x200')\n",
    "   \n",
    "  initface(self.root)  \n",
    "     \n",
    "class initface():\n",
    " def __init__(self,master):\n",
    "   \n",
    "  self.master = master\n",
    "  self.master.config(bg='green')\n",
    "  #基准界面initface\n",
    "  self.initface = tk.Frame(self.master,)\n",
    "  self.initface.pack()\n",
    "  btn = tk.Button(self.initface,text='change',command=self.change)\n",
    "  btn.pack()\n",
    "   \n",
    " def change(self,):  \n",
    "  self.initface.destroy()\n",
    "  face1(self.master)  \n",
    "  \n",
    "class face1():\n",
    " def __init__(self,master):\n",
    "  self.master = master\n",
    "  self.master.config(bg='blue')\n",
    "  self.face1 = tk.Frame(self.master,)\n",
    "  self.face1.pack()\n",
    "  btn_back = tk.Button(self.face1,text='face1 back',command=self.back)\n",
    "  btn_back.pack()\n",
    "  \n",
    " def back(self):\n",
    "  self.face1.destroy()\n",
    "  initface(self.master)\n",
    "   \n",
    "  \n",
    "if __name__ == '__main__': \n",
    " root = tk.Tk()\n",
    " basedesk(root)\n",
    " root.mainloop()"
   ]
  },
  {
   "cell_type": "code",
   "execution_count": 3,
   "metadata": {},
   "outputs": [],
   "source": [
    "import tkinter\n",
    "import tkinter.messagebox\n",
    "class myWindow:\n",
    "    def __init__(self, root, myTitle, flag):\n",
    "        self.top = tkinter.Toplevel(root, width=300, height=200)\n",
    "        self.top.title(myTitle)\n",
    "        self.top.attributes('-topmost', 1)\n",
    "        if flag==1:\n",
    "            label = tkinter.Label(self.top, text=myTitle)\n",
    "            label.place(x=50, y=50)\n",
    "        elif flag==2:\n",
    "            def buttonOK():\n",
    "                tkinter.messagebox.showinfo(title='Python V5', message='I am cakin24')\n",
    "            button = tkinter.Button(self.top, text=myTitle, command=buttonOK)\n",
    "            button.place(x=50, y=50)\n",
    "root = tkinter.Tk()\n",
    "root.config(width=400)\n",
    "root.config(height=200)\n",
    "window1 = tkinter.IntVar(root, value=0)\n",
    "window2 = tkinter.IntVar(root, value=0)\n",
    "root.title('Multiple Windows Demo------cakin24')\n",
    "def buttonClick1():\n",
    "    if window1.get()==0:\n",
    "        window1.set(1)\n",
    "        w1 = myWindow(root, 'First Window', 1)\n",
    "        button1.wait_window(w1.top)\n",
    "        window1.set(0)\n",
    "button1 = tkinter.Button(root, text='First Window', command=buttonClick1)\n",
    "button1.place(x=70, y=40, height=40, width=200)\n",
    "def buttonClick2():\n",
    "    if window2.get()==0:\n",
    "        window2.set(1)\n",
    "        w1 = myWindow(root, 'Second Window', 2)\n",
    "        button2.wait_window(w1.top)\n",
    "        window2.set(0)\n",
    "button2 = tkinter.Button(root, text='Second Window', command=buttonClick2)\n",
    "button2.place(x=70, y=100, height=40, width=200)\n",
    "root.mainloop()"
   ]
  },
  {
   "cell_type": "code",
   "execution_count": 2,
   "metadata": {},
   "outputs": [
    {
     "name": "stdout",
     "output_type": "stream",
     "text": [
      "发\n",
      "发\n",
      "发5 \n",
      "发5 55\n",
      "发5 55555\n"
     ]
    }
   ],
   "source": [
    "import tkinter as tk\n",
    " \n",
    "class Window:\n",
    "    def __init__(self,handle):\n",
    "        self.win = handle\n",
    "        self.createwindow()\n",
    "        self.run()\n",
    "         \n",
    "    def createwindow(self):\n",
    "        self.win.geometry('400x400')\n",
    "        #label 1\n",
    "        self.label_text = tk.StringVar()\n",
    "        self.label_text.set(\"----\")\n",
    "        self.lable = tk.Label(self.win,\n",
    "                    textvariable=self.label_text,\n",
    "                    font=('Arial',11),width=15,height=2)\n",
    "        self.lable.pack()\n",
    " \n",
    "        #text_contrl\n",
    "        self.entry_text = tk.StringVar()\n",
    "        self.entry = tk.Entry(self.win,textvariable=self.entry_text,width=30)\n",
    "        self.entry.pack()\n",
    " \n",
    "        #button\n",
    "        self.button =tk.Button(self.win,text=\"set label to text\",width=15,height=2,command=self.setlabel)\n",
    "        self.button.pack()\n",
    " \n",
    "    def setlabel(self):\n",
    "        print(self.entry_text.get())\n",
    "        self.label_text.set(self.entry_text.get())\n",
    " \n",
    "    def run(self):\n",
    "        try:\n",
    "            self.win.mainloop()\n",
    "        except Exception as e:\n",
    "            print (\"*** exception:\\n\".format(e))\n",
    "def main():\n",
    "            window = tk.Tk()\n",
    "            window.title('hello tkinter')\n",
    "            Window(window).run()\n",
    "if __name__ == \"__main__\":\n",
    "    main()"
   ]
  },
  {
   "cell_type": "code",
   "execution_count": null,
   "metadata": {},
   "outputs": [],
   "source": []
  }
 ],
 "metadata": {
  "kernelspec": {
   "display_name": "Python 3",
   "language": "python",
   "name": "python3"
  },
  "language_info": {
   "codemirror_mode": {
    "name": "ipython",
    "version": 3
   },
   "file_extension": ".py",
   "mimetype": "text/x-python",
   "name": "python",
   "nbconvert_exporter": "python",
   "pygments_lexer": "ipython3",
   "version": "3.8.5"
  }
 },
 "nbformat": 4,
 "nbformat_minor": 4
}
