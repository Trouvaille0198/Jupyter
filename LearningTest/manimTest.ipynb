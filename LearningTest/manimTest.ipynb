{
 "cells": [
  {
   "cell_type": "code",
   "execution_count": 1,
   "metadata": {},
   "outputs": [],
   "source": [
    "from manim import *"
   ]
  },
  {
   "cell_type": "code",
   "execution_count": 2,
   "metadata": {},
   "outputs": [
    {
     "name": "stderr",
     "output_type": "stream",
     "text": [
      "                                                                            \r"
     ]
    },
    {
     "data": {
      "text/html": [
       "<pre style=\"white-space:pre;overflow-x:auto;line-height:normal;font-family:Menlo,'DejaVu Sans Mono',consolas,'Courier New',monospace\"><span style=\"color: #7fbfbf\">[02/15/21 13:16:35] </span><span style=\"color: #000080\">INFO</span>     Animation <span style=\"color: #000080; font-weight: bold\">0</span> : Partial movie file        <a href=\"file://C:\\environment\\anaconda3\\lib\\site-packages\\manim\\scene\\scene_file_writer.py\"><span style=\"color: #7f7f7f\">scene_file_writer.py</span></a><span style=\"color: #7f7f7f\">:377</span>\n",
       "                             written in <span style=\"font-weight: bold\">{</span><span style=\"color: #008000\">'D:\\\\Repo\\\\Jupyter\\\\Learnin</span>                         \n",
       "                             <span style=\"color: #008000\">gTest\\\\media\\\\videos\\\\LearningTest\\\\108</span>                         \n",
       "                             <span style=\"color: #008000\">0p60\\\\partial_movie_files\\\\Test1\\\\45097</span>                         \n",
       "                             <span style=\"color: #008000\">4505_1790354647_3681920525.mp4'</span><span style=\"font-weight: bold\">}</span>                                \n",
       "</pre>\n"
      ],
      "text/plain": [
       "<rich.jupyter.JupyterRenderable at 0x1e96c980e80>"
      ]
     },
     "metadata": {},
     "output_type": "display_data"
    },
    {
     "name": "stderr",
     "output_type": "stream",
     "text": [
      "                                                                               \r"
     ]
    },
    {
     "data": {
      "text/html": [
       "<pre style=\"white-space:pre;overflow-x:auto;line-height:normal;font-family:Menlo,'DejaVu Sans Mono',consolas,'Courier New',monospace\"><span style=\"color: #7fbfbf\">[02/15/21 13:16:36] </span><span style=\"color: #000080\">INFO</span>     Animation <span style=\"color: #000080; font-weight: bold\">1</span> : Partial movie file        <a href=\"file://C:\\environment\\anaconda3\\lib\\site-packages\\manim\\scene\\scene_file_writer.py\"><span style=\"color: #7f7f7f\">scene_file_writer.py</span></a><span style=\"color: #7f7f7f\">:377</span>\n",
       "                             written in <span style=\"font-weight: bold\">{</span><span style=\"color: #008000\">'D:\\\\Repo\\\\Jupyter\\\\Learnin</span>                         \n",
       "                             <span style=\"color: #008000\">gTest\\\\media\\\\videos\\\\LearningTest\\\\108</span>                         \n",
       "                             <span style=\"color: #008000\">0p60\\\\partial_movie_files\\\\Test1\\\\27887</span>                         \n",
       "                             <span style=\"color: #008000\">26626_2051348211_2700237642.mp4'</span><span style=\"font-weight: bold\">}</span>                               \n",
       "</pre>\n"
      ],
      "text/plain": [
       "<rich.jupyter.JupyterRenderable at 0x1e96c9b8c40>"
      ]
     },
     "metadata": {},
     "output_type": "display_data"
    },
    {
     "name": "stderr",
     "output_type": "stream",
     "text": [
      "                                                                                      \r"
     ]
    },
    {
     "data": {
      "text/html": [
       "<pre style=\"white-space:pre;overflow-x:auto;line-height:normal;font-family:Menlo,'DejaVu Sans Mono',consolas,'Courier New',monospace\"><span style=\"color: #7fbfbf\">[02/15/21 13:16:37] </span><span style=\"color: #000080\">INFO</span>     Animation <span style=\"color: #000080; font-weight: bold\">2</span> : Partial movie file        <a href=\"file://C:\\environment\\anaconda3\\lib\\site-packages\\manim\\scene\\scene_file_writer.py\"><span style=\"color: #7f7f7f\">scene_file_writer.py</span></a><span style=\"color: #7f7f7f\">:377</span>\n",
       "                             written in <span style=\"font-weight: bold\">{</span><span style=\"color: #008000\">'D:\\\\Repo\\\\Jupyter\\\\Learnin</span>                         \n",
       "                             <span style=\"color: #008000\">gTest\\\\media\\\\videos\\\\LearningTest\\\\108</span>                         \n",
       "                             <span style=\"color: #008000\">0p60\\\\partial_movie_files\\\\Test1\\\\27887</span>                         \n",
       "                             <span style=\"color: #008000\">26626_194265830_2678647214.mp4'</span><span style=\"font-weight: bold\">}</span>                                \n",
       "</pre>\n"
      ],
      "text/plain": [
       "<rich.jupyter.JupyterRenderable at 0x1e96c9dc4f0>"
      ]
     },
     "metadata": {},
     "output_type": "display_data"
    },
    {
     "name": "stderr",
     "output_type": "stream",
     "text": [
      "                                                                                    \r"
     ]
    },
    {
     "data": {
      "text/html": [
       "<pre style=\"white-space:pre;overflow-x:auto;line-height:normal;font-family:Menlo,'DejaVu Sans Mono',consolas,'Courier New',monospace\"><span style=\"color: #7fbfbf\">[02/15/21 13:16:38] </span><span style=\"color: #000080\">INFO</span>     Animation <span style=\"color: #000080; font-weight: bold\">3</span> : Partial movie file        <a href=\"file://C:\\environment\\anaconda3\\lib\\site-packages\\manim\\scene\\scene_file_writer.py\"><span style=\"color: #7f7f7f\">scene_file_writer.py</span></a><span style=\"color: #7f7f7f\">:377</span>\n",
       "                             written in <span style=\"font-weight: bold\">{</span><span style=\"color: #008000\">'D:\\\\Repo\\\\Jupyter\\\\Learnin</span>                         \n",
       "                             <span style=\"color: #008000\">gTest\\\\media\\\\videos\\\\LearningTest\\\\108</span>                         \n",
       "                             <span style=\"color: #008000\">0p60\\\\partial_movie_files\\\\Test1\\\\27887</span>                         \n",
       "                             <span style=\"color: #008000\">26626_290317051_2162215858.mp4'</span><span style=\"font-weight: bold\">}</span>                                \n",
       "</pre>\n"
      ],
      "text/plain": [
       "<rich.jupyter.JupyterRenderable at 0x1e96c9dc1f0>"
      ]
     },
     "metadata": {},
     "output_type": "display_data"
    },
    {
     "data": {
      "text/html": [
       "<pre style=\"white-space:pre;overflow-x:auto;line-height:normal;font-family:Menlo,'DejaVu Sans Mono',consolas,'Courier New',monospace\"><span style=\"color: #7fbfbf\">[02/15/21 13:16:39] </span><span style=\"color: #000080\">INFO</span>     Animation <span style=\"color: #000080; font-weight: bold\">4</span> : Partial movie file        <a href=\"file://C:\\environment\\anaconda3\\lib\\site-packages\\manim\\scene\\scene_file_writer.py\"><span style=\"color: #7f7f7f\">scene_file_writer.py</span></a><span style=\"color: #7f7f7f\">:377</span>\n",
       "                             written in <span style=\"font-weight: bold\">{</span><span style=\"color: #008000\">'D:\\\\Repo\\\\Jupyter\\\\Learnin</span>                         \n",
       "                             <span style=\"color: #008000\">gTest\\\\media\\\\videos\\\\LearningTest\\\\108</span>                         \n",
       "                             <span style=\"color: #008000\">0p60\\\\partial_movie_files\\\\Test1\\\\27887</span>                         \n",
       "                             <span style=\"color: #008000\">26626_4180579860_3048305454.mp4'</span><span style=\"font-weight: bold\">}</span>                               \n",
       "</pre>\n"
      ],
      "text/plain": [
       "<rich.jupyter.JupyterRenderable at 0x1e96acb01c0>"
      ]
     },
     "metadata": {},
     "output_type": "display_data"
    },
    {
     "data": {
      "text/html": [
       "<pre style=\"white-space:pre;overflow-x:auto;line-height:normal;font-family:Menlo,'DejaVu Sans Mono',consolas,'Courier New',monospace\"><span style=\"color: #7fbfbf\">                    </span><span style=\"color: #000080\">INFO</span>                                             <a href=\"file://C:\\environment\\anaconda3\\lib\\site-packages\\manim\\scene\\scene_file_writer.py\"><span style=\"color: #7f7f7f\">scene_file_writer.py</span></a><span style=\"color: #7f7f7f\">:549</span>\n",
       "                             <span style=\"color: #808000; font-weight: bold\">File</span> ready at D:\\Repo\\Jupyter\\LearningT                         \n",
       "                             est\\media\\videos\\LearningTest\\1080p60\\T                         \n",
       "                             est1.mp4                                                        \n",
       "                                                                                             \n",
       "</pre>\n"
      ],
      "text/plain": [
       "<rich.jupyter.JupyterRenderable at 0x1e96acb0880>"
      ]
     },
     "metadata": {},
     "output_type": "display_data"
    },
    {
     "data": {
      "text/html": [
       "<pre style=\"white-space:pre;overflow-x:auto;line-height:normal;font-family:Menlo,'DejaVu Sans Mono',consolas,'Courier New',monospace\"><span style=\"color: #7fbfbf\">                    </span><span style=\"color: #000080\">INFO</span>     <span style=\"color: #808000; font-weight: bold\">Rendered</span> Test1                                      <a href=\"file://C:\\environment\\anaconda3\\lib\\site-packages\\manim\\scene\\scene.py\"><span style=\"color: #7f7f7f\">scene.py</span></a><span style=\"color: #7f7f7f\">:175</span>\n",
       "                             <span style=\"color: #808000; font-weight: bold\">Played</span> <span style=\"color: #000080; font-weight: bold\">5</span> <span style=\"color: #808000; font-weight: bold\">animations</span>                                             \n",
       "</pre>\n"
      ],
      "text/plain": [
       "<rich.jupyter.JupyterRenderable at 0x1e96acb0400>"
      ]
     },
     "metadata": {},
     "output_type": "display_data"
    },
    {
     "data": {
      "text/html": [
       "<video src=\"media\\jupyter\\0a81ea9f86d8aee20e6b8e010a22892ebfd3703b.mp4\" controls autoplay loop style=\"max-width: 100%;\"  >\n",
       "      Your browser does not support the <code>video</code> element.\n",
       "    </video>"
      ],
      "text/plain": [
       "<IPython.core.display.Video object>"
      ]
     },
     "metadata": {},
     "output_type": "display_data"
    }
   ],
   "source": [
    "%%manim Test1 [CLI options]\n",
    "class Test1(Scene):\n",
    "    def construct(self):\n",
    "        name1=Text('五').scale(3).shift(LEFT*2)\n",
    "        logo=Circle().set_fill(ORANGE,opacity=0.6).next_to(name1,RIGHT)\n",
    "        name2=Text('字不行').scale(2).next_to(name1,RIGHT)\n",
    "        self.play(FadeIn(logo))\n",
    "        self.play(Write(name1))\n",
    "        self.play(logo.animate.shift(2*RIGHT))\n",
    "        self.play(FadeIn(name2))\n",
    "        self.wait()       "
   ]
  },
  {
   "cell_type": "code",
   "execution_count": null,
   "metadata": {},
   "outputs": [],
   "source": []
  }
 ],
 "metadata": {
  "kernelspec": {
   "display_name": "Python 3",
   "language": "python",
   "name": "python3"
  },
  "language_info": {
   "codemirror_mode": {
    "name": "ipython",
    "version": 3
   },
   "file_extension": ".py",
   "mimetype": "text/x-python",
   "name": "python",
   "nbconvert_exporter": "python",
   "pygments_lexer": "ipython3",
   "version": "3.8.5"
  }
 },
 "nbformat": 4,
 "nbformat_minor": 4
}
