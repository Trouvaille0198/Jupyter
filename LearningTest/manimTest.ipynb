{
 "cells": [
  {
   "cell_type": "code",
   "execution_count": 2,
   "metadata": {},
   "outputs": [],
   "source": [
    "from manim import *"
   ]
  },
  {
   "cell_type": "code",
   "execution_count": 58,
   "metadata": {},
   "outputs": [
    {
     "name": "stderr",
     "output_type": "stream",
     "text": [
      "\n",
      "\n",
      "Animation 0: FadeIn(Circle):   0%|          | 0/60 [00:00<?, ?it/s]\n",
      "\n",
      "Animation 0: FadeIn(Circle):  10%|#         | 6/60 [00:00<00:00, 59.56it/s]\n",
      "\n",
      "Animation 0: FadeIn(Circle):  25%|##5       | 15/60 [00:00<00:00, 65.02it/s]\n",
      "\n",
      "Animation 0: FadeIn(Circle):  40%|####      | 24/60 [00:00<00:00, 69.97it/s]\n",
      "\n",
      "Animation 0: FadeIn(Circle):  55%|#####5    | 33/60 [00:00<00:00, 73.83it/s]\n",
      "\n",
      "Animation 0: FadeIn(Circle):  70%|#######   | 42/60 [00:00<00:00, 76.03it/s]\n",
      "\n",
      "Animation 0: FadeIn(Circle):  82%|########1 | 49/60 [00:00<00:00, 56.45it/s]\n",
      "\n",
      "Animation 0: FadeIn(Circle):  93%|#########3| 56/60 [00:00<00:00, 57.61it/s]\n",
      "\n",
      "                                                                            "
     ]
    },
    {
     "data": {
      "text/html": [
       "<pre style=\"white-space:pre;overflow-x:auto;line-height:normal;font-family:Menlo,'DejaVu Sans Mono',consolas,'Courier New',monospace\"><span style=\"color: #7fbfbf\">[02/14/21 23:00:03] </span><span style=\"color: #000080\">INFO</span>     Animation <span style=\"color: #000080; font-weight: bold\">0</span> : Partial movie file        <a href=\"file://C:\\environment\\anaconda3\\lib\\site-packages\\manim\\scene\\scene_file_writer.py\"><span style=\"color: #7f7f7f\">scene_file_writer.py</span></a><span style=\"color: #7f7f7f\">:377</span>\n",
       "                             written in <span style=\"font-weight: bold\">{</span><span style=\"color: #008000\">'D:\\\\Repo\\\\Jupyter\\\\Learnin</span>                         \n",
       "                             <span style=\"color: #008000\">gTest\\\\media\\\\videos\\\\LearningTest\\\\108</span>                         \n",
       "                             <span style=\"color: #008000\">0p60\\\\partial_movie_files\\\\Test1\\\\45097</span>                         \n",
       "                             <span style=\"color: #008000\">4505_1790354647_3681920525.mp4'</span><span style=\"font-weight: bold\">}</span>                                \n",
       "</pre>\n"
      ],
      "text/plain": [
       "<rich.jupyter.JupyterRenderable at 0x1b2e050f340>"
      ]
     },
     "metadata": {},
     "output_type": "display_data"
    },
    {
     "name": "stderr",
     "output_type": "stream",
     "text": [
      "\n",
      "\n",
      "Animation 1: Write(Text('五')):   0%|          | 0/60 [00:00<?, ?it/s]\n",
      "\n",
      "Animation 1: Write(Text('五')):  10%|#         | 6/60 [00:00<00:00, 55.38it/s]\n",
      "\n",
      "Animation 1: Write(Text('五')):  25%|##5       | 15/60 [00:00<00:00, 60.99it/s]\n",
      "\n",
      "Animation 1: Write(Text('五')):  38%|###8      | 23/60 [00:00<00:00, 64.51it/s]\n",
      "\n",
      "Animation 1: Write(Text('五')):  52%|#####1    | 31/60 [00:00<00:00, 68.18it/s]\n",
      "\n",
      "Animation 1: Write(Text('五')):  65%|######5   | 39/60 [00:00<00:00, 70.08it/s]\n",
      "\n",
      "Animation 1: Write(Text('五')):  77%|#######6  | 46/60 [00:00<00:00, 69.29it/s]\n",
      "\n",
      "Animation 1: Write(Text('五')):  88%|########8 | 53/60 [00:00<00:00, 57.41it/s]\n",
      "\n",
      "Animation 1: Write(Text('五')): 100%|##########| 60/60 [00:00<00:00, 60.42it/s]\n",
      "\n",
      "                                                                               "
     ]
    },
    {
     "data": {
      "text/html": [
       "<pre style=\"white-space:pre;overflow-x:auto;line-height:normal;font-family:Menlo,'DejaVu Sans Mono',consolas,'Courier New',monospace\"><span style=\"color: #7fbfbf\">[02/14/21 23:00:04] </span><span style=\"color: #000080\">INFO</span>     Animation <span style=\"color: #000080; font-weight: bold\">1</span> : Partial movie file        <a href=\"file://C:\\environment\\anaconda3\\lib\\site-packages\\manim\\scene\\scene_file_writer.py\"><span style=\"color: #7f7f7f\">scene_file_writer.py</span></a><span style=\"color: #7f7f7f\">:377</span>\n",
       "                             written in <span style=\"font-weight: bold\">{</span><span style=\"color: #008000\">'D:\\\\Repo\\\\Jupyter\\\\Learnin</span>                         \n",
       "                             <span style=\"color: #008000\">gTest\\\\media\\\\videos\\\\LearningTest\\\\108</span>                         \n",
       "                             <span style=\"color: #008000\">0p60\\\\partial_movie_files\\\\Test1\\\\27887</span>                         \n",
       "                             <span style=\"color: #008000\">26626_2051348211_2700237642.mp4'</span><span style=\"font-weight: bold\">}</span>                               \n",
       "</pre>\n"
      ],
      "text/plain": [
       "<rich.jupyter.JupyterRenderable at 0x1b2e04f13a0>"
      ]
     },
     "metadata": {},
     "output_type": "display_data"
    },
    {
     "name": "stderr",
     "output_type": "stream",
     "text": [
      "\n",
      "\n",
      "Animation 2: _MethodAnimation(Circle):   0%|          | 0/60 [00:00<?, ?it/s]\n",
      "\n",
      "Animation 2: _MethodAnimation(Circle):  10%|#         | 6/60 [00:00<00:00, 55.11it/s]\n",
      "\n",
      "Animation 2: _MethodAnimation(Circle):  25%|##5       | 15/60 [00:00<00:00, 62.01it/s]\n",
      "\n",
      "Animation 2: _MethodAnimation(Circle):  38%|###8      | 23/60 [00:00<00:00, 65.18it/s]\n",
      "\n",
      "Animation 2: _MethodAnimation(Circle):  52%|#####1    | 31/60 [00:00<00:00, 67.49it/s]\n",
      "\n",
      "Animation 2: _MethodAnimation(Circle):  62%|######1   | 37/60 [00:00<00:00, 63.46it/s]\n",
      "\n",
      "Animation 2: _MethodAnimation(Circle):  73%|#######3  | 44/60 [00:00<00:00, 63.73it/s]\n",
      "\n",
      "Animation 2: _MethodAnimation(Circle):  83%|########3 | 50/60 [00:00<00:00, 52.39it/s]\n",
      "\n",
      "Animation 2: _MethodAnimation(Circle):  97%|#########6| 58/60 [00:00<00:00, 57.34it/s]\n",
      "\n",
      "                                                                                      "
     ]
    },
    {
     "data": {
      "text/html": [
       "<pre style=\"white-space:pre;overflow-x:auto;line-height:normal;font-family:Menlo,'DejaVu Sans Mono',consolas,'Courier New',monospace\"><span style=\"color: #7fbfbf\">[02/14/21 23:00:05] </span><span style=\"color: #000080\">INFO</span>     Animation <span style=\"color: #000080; font-weight: bold\">2</span> : Partial movie file        <a href=\"file://C:\\environment\\anaconda3\\lib\\site-packages\\manim\\scene\\scene_file_writer.py\"><span style=\"color: #7f7f7f\">scene_file_writer.py</span></a><span style=\"color: #7f7f7f\">:377</span>\n",
       "                             written in <span style=\"font-weight: bold\">{</span><span style=\"color: #008000\">'D:\\\\Repo\\\\Jupyter\\\\Learnin</span>                         \n",
       "                             <span style=\"color: #008000\">gTest\\\\media\\\\videos\\\\LearningTest\\\\108</span>                         \n",
       "                             <span style=\"color: #008000\">0p60\\\\partial_movie_files\\\\Test1\\\\27887</span>                         \n",
       "                             <span style=\"color: #008000\">26626_3980557554_2678647214.mp4'</span><span style=\"font-weight: bold\">}</span>                               \n",
       "</pre>\n"
      ],
      "text/plain": [
       "<rich.jupyter.JupyterRenderable at 0x1b2e0509f10>"
      ]
     },
     "metadata": {},
     "output_type": "display_data"
    },
    {
     "name": "stderr",
     "output_type": "stream",
     "text": [
      "\n",
      "\n",
      "Animation 3: FadeIn(Text('字不行')):   0%|          | 0/60 [00:00<?, ?it/s]\n",
      "\n",
      "Animation 3: FadeIn(Text('字不行')):   8%|8         | 5/60 [00:00<00:01, 48.18it/s]\n",
      "\n",
      "Animation 3: FadeIn(Text('字不行')):  22%|##1       | 13/60 [00:00<00:00, 54.18it/s]\n",
      "\n",
      "Animation 3: FadeIn(Text('字不行')):  35%|###5      | 21/60 [00:00<00:00, 58.68it/s]\n",
      "\n",
      "Animation 3: FadeIn(Text('字不行')):  47%|####6     | 28/60 [00:00<00:00, 60.58it/s]\n",
      "\n",
      "Animation 3: FadeIn(Text('字不行')):  58%|#####8    | 35/60 [00:00<00:00, 62.07it/s]\n",
      "\n",
      "Animation 3: FadeIn(Text('字不行')):  72%|#######1  | 43/60 [00:00<00:00, 66.47it/s]\n",
      "\n",
      "Animation 3: FadeIn(Text('字不行')):  83%|########3 | 50/60 [00:00<00:00, 58.36it/s]\n",
      "\n",
      "Animation 3: FadeIn(Text('字不行')):  95%|#########5| 57/60 [00:00<00:00, 60.36it/s]\n",
      "\n",
      "                                                                                    "
     ]
    },
    {
     "data": {
      "text/html": [
       "<pre style=\"white-space:pre;overflow-x:auto;line-height:normal;font-family:Menlo,'DejaVu Sans Mono',consolas,'Courier New',monospace\"><span style=\"color: #7fbfbf\">[02/14/21 23:00:07] </span><span style=\"color: #000080\">INFO</span>     Animation <span style=\"color: #000080; font-weight: bold\">3</span> : Partial movie file        <a href=\"file://C:\\environment\\anaconda3\\lib\\site-packages\\manim\\scene\\scene_file_writer.py\"><span style=\"color: #7f7f7f\">scene_file_writer.py</span></a><span style=\"color: #7f7f7f\">:377</span>\n",
       "                             written in <span style=\"font-weight: bold\">{</span><span style=\"color: #008000\">'D:\\\\Repo\\\\Jupyter\\\\Learnin</span>                         \n",
       "                             <span style=\"color: #008000\">gTest\\\\media\\\\videos\\\\LearningTest\\\\108</span>                         \n",
       "                             <span style=\"color: #008000\">0p60\\\\partial_movie_files\\\\Test1\\\\27887</span>                         \n",
       "                             <span style=\"color: #008000\">26626_290317051_3789537406.mp4'</span><span style=\"font-weight: bold\">}</span>                                \n",
       "</pre>\n"
      ],
      "text/plain": [
       "<rich.jupyter.JupyterRenderable at 0x1b2e04b01f0>"
      ]
     },
     "metadata": {},
     "output_type": "display_data"
    },
    {
     "data": {
      "text/html": [
       "<pre style=\"white-space:pre;overflow-x:auto;line-height:normal;font-family:Menlo,'DejaVu Sans Mono',consolas,'Courier New',monospace\"><span style=\"color: #7fbfbf\">[02/14/21 23:00:08] </span><span style=\"color: #000080\">INFO</span>     Animation <span style=\"color: #000080; font-weight: bold\">4</span> : Partial movie file        <a href=\"file://C:\\environment\\anaconda3\\lib\\site-packages\\manim\\scene\\scene_file_writer.py\"><span style=\"color: #7f7f7f\">scene_file_writer.py</span></a><span style=\"color: #7f7f7f\">:377</span>\n",
       "                             written in <span style=\"font-weight: bold\">{</span><span style=\"color: #008000\">'D:\\\\Repo\\\\Jupyter\\\\Learnin</span>                         \n",
       "                             <span style=\"color: #008000\">gTest\\\\media\\\\videos\\\\LearningTest\\\\108</span>                         \n",
       "                             <span style=\"color: #008000\">0p60\\\\partial_movie_files\\\\Test1\\\\27887</span>                         \n",
       "                             <span style=\"color: #008000\">26626_4180579860_1640439429.mp4'</span><span style=\"font-weight: bold\">}</span>                               \n",
       "</pre>\n"
      ],
      "text/plain": [
       "<rich.jupyter.JupyterRenderable at 0x1b2e0509880>"
      ]
     },
     "metadata": {},
     "output_type": "display_data"
    },
    {
     "data": {
      "text/html": [
       "<pre style=\"white-space:pre;overflow-x:auto;line-height:normal;font-family:Menlo,'DejaVu Sans Mono',consolas,'Courier New',monospace\"><span style=\"color: #7fbfbf\">                    </span><span style=\"color: #000080\">INFO</span>                                             <a href=\"file://C:\\environment\\anaconda3\\lib\\site-packages\\manim\\scene\\scene_file_writer.py\"><span style=\"color: #7f7f7f\">scene_file_writer.py</span></a><span style=\"color: #7f7f7f\">:549</span>\n",
       "                             <span style=\"color: #808000; font-weight: bold\">File</span> ready at D:\\Repo\\Jupyter\\LearningT                         \n",
       "                             est\\media\\videos\\LearningTest\\1080p60\\T                         \n",
       "                             est1.mp4                                                        \n",
       "                                                                                             \n",
       "</pre>\n"
      ],
      "text/plain": [
       "<rich.jupyter.JupyterRenderable at 0x1b2e0509760>"
      ]
     },
     "metadata": {},
     "output_type": "display_data"
    },
    {
     "data": {
      "text/html": [
       "<pre style=\"white-space:pre;overflow-x:auto;line-height:normal;font-family:Menlo,'DejaVu Sans Mono',consolas,'Courier New',monospace\"><span style=\"color: #7fbfbf\">                    </span><span style=\"color: #000080\">INFO</span>     <span style=\"color: #808000; font-weight: bold\">Rendered</span> Test1                                      <a href=\"file://C:\\environment\\anaconda3\\lib\\site-packages\\manim\\scene\\scene.py\"><span style=\"color: #7f7f7f\">scene.py</span></a><span style=\"color: #7f7f7f\">:175</span>\n",
       "                             <span style=\"color: #808000; font-weight: bold\">Played</span> <span style=\"color: #000080; font-weight: bold\">5</span> <span style=\"color: #808000; font-weight: bold\">animations</span>                                             \n",
       "</pre>\n"
      ],
      "text/plain": [
       "<rich.jupyter.JupyterRenderable at 0x1b2e0509760>"
      ]
     },
     "metadata": {},
     "output_type": "display_data"
    },
    {
     "data": {
      "text/html": [
       "<video src=\"media\\jupyter\\0a81ea9f86d8aee20e6b8e010a22892ebfd3703b.mp4\" controls autoplay loop style=\"max-width: 100%;\"  >\n",
       "      Your browser does not support the <code>video</code> element.\n",
       "    </video>"
      ],
      "text/plain": [
       "<IPython.core.display.Video object>"
      ]
     },
     "metadata": {},
     "output_type": "display_data"
    }
   ],
   "source": [
    "%%manim Test1 [CLI options]\n",
    "class Test1(Scene):\n",
    "    def construct(self):\n",
    "        name1=Text('五').scale(3).shift(LEFT*2)\n",
    "        logo=Circle().set_fill(ORANGE,opacity=0.6).next_to(name1,RIGHT)\n",
    "        name2=Text('字不行').scale(2).next_to(name1,RIGHT)\n",
    "        self.play(FadeIn(logo))\n",
    "        self.play(Write(name1))\n",
    "        self.play(logo.animate.shift(2*RIGHT))\n",
    "        self.play(FadeIn(name2))\n",
    "        self.wait()\n",
    "    \n",
    "        "
   ]
  },
  {
   "cell_type": "code",
   "execution_count": null,
   "metadata": {},
   "outputs": [],
   "source": []
  }
 ],
 "metadata": {
  "kernelspec": {
   "display_name": "Python 3",
   "language": "python",
   "name": "python3"
  },
  "language_info": {
   "codemirror_mode": {
    "name": "ipython",
    "version": 3
   },
   "file_extension": ".py",
   "mimetype": "text/x-python",
   "name": "python",
   "nbconvert_exporter": "python",
   "pygments_lexer": "ipython3",
   "version": "3.8.5"
  }
 },
 "nbformat": 4,
 "nbformat_minor": 4
}
