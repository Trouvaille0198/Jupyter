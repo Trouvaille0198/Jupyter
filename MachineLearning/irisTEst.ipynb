{
 "cells": [
  {
   "cell_type": "code",
   "execution_count": 1,
   "metadata": {},
   "outputs": [
    {
     "name": "stdout",
     "output_type": "stream",
     "text": [
      "预测值为: [0 0 2 1 2 0 2 1 1 1 0 1 2 0 1 1 0 0 2 2 0 0 0 1 2 2 0 1 0 0 1 0 1 1 2 2 1\n",
      " 2] \n",
      "真实值为: [0 0 2 1 2 0 2 1 1 1 0 1 2 0 1 1 0 0 2 2 0 0 0 2 2 2 0 1 0 0 1 0 1 1 2 2 1\n",
      " 2] \n",
      "比较结果为: [ True  True  True  True  True  True  True  True  True  True  True  True\n",
      "  True  True  True  True  True  True  True  True  True  True  True False\n",
      "  True  True  True  True  True  True  True  True  True  True  True  True\n",
      "  True  True]\n",
      "准确率为：\n",
      " 0.9736842105263158\n",
      "最佳参数:\n",
      " {'n_neighbors': 1}\n",
      "最佳结果:\n",
      " 0.9469696969696969\n",
      "最佳估计器:\n",
      " KNeighborsClassifier(n_neighbors=1)\n",
      "交叉验证结果:\n",
      " {'mean_fit_time': array([0.00029657, 0.00039995, 0.00039968, 0.00049977, 0.00029998,\n",
      "       0.00040131]), 'std_fit_time': array([0.00045309, 0.00048983, 0.00048951, 0.00049977, 0.00045822,\n",
      "       0.0004915 ]), 'mean_score_time': array([0.00089977, 0.00080023, 0.00110025, 0.00080018, 0.00079889,\n",
      "       0.00080283]), 'std_score_time': array([0.00029992, 0.0004004 , 0.00030082, 0.00040009, 0.00039965,\n",
      "       0.00040154]), 'param_n_neighbors': masked_array(data=[1, 3, 5, 7, 9, 11],\n",
      "             mask=[False, False, False, False, False, False],\n",
      "       fill_value='?',\n",
      "            dtype=object), 'params': [{'n_neighbors': 1}, {'n_neighbors': 3}, {'n_neighbors': 5}, {'n_neighbors': 7}, {'n_neighbors': 9}, {'n_neighbors': 11}], 'split0_test_score': array([0.91666667, 0.91666667, 0.91666667, 0.91666667, 0.91666667,\n",
      "       0.91666667]), 'split1_test_score': array([0.91666667, 0.91666667, 0.83333333, 0.91666667, 0.91666667,\n",
      "       0.91666667]), 'split2_test_score': array([0.90909091, 0.90909091, 0.90909091, 0.90909091, 0.90909091,\n",
      "       1.        ]), 'split3_test_score': array([0.90909091, 0.90909091, 0.90909091, 0.90909091, 0.90909091,\n",
      "       0.81818182]), 'split4_test_score': array([1., 1., 1., 1., 1., 1.]), 'split5_test_score': array([0.90909091, 0.90909091, 1.        , 1.        , 1.        ,\n",
      "       1.        ]), 'split6_test_score': array([1., 1., 1., 1., 1., 1.]), 'split7_test_score': array([0.90909091, 0.81818182, 0.81818182, 0.81818182, 0.81818182,\n",
      "       0.81818182]), 'split8_test_score': array([1., 1., 1., 1., 1., 1.]), 'split9_test_score': array([1.        , 0.90909091, 1.        , 1.        , 1.        ,\n",
      "       0.90909091]), 'mean_test_score': array([0.9469697 , 0.92878788, 0.93863636, 0.9469697 , 0.9469697 ,\n",
      "       0.93787879]), 'std_test_score': array([0.04338734, 0.05412294, 0.06830376, 0.05945884, 0.05945884,\n",
      "       0.07048305]), 'rank_test_score': array([1, 6, 4, 1, 1, 5])}\n"
     ]
    }
   ],
   "source": [
    "from sklearn.neighbors import KNeighborsClassifier\n",
    "from sklearn.preprocessing import StandardScaler\n",
    "from sklearn.model_selection import train_test_split, GridSearchCV\n",
    "from sklearn import datasets\n",
    "import numpy as np\n",
    "import pandas as pd\n",
    "\n",
    "# 数据集导入\n",
    "iris = datasets.load_iris()\n",
    "\n",
    "# 数据集划分\n",
    "x_train, x_test, y_train, y_test = train_test_split(\n",
    "    iris.data, iris.target, random_state=43)\n",
    "\n",
    "# 标准化\n",
    "transfer_std = StandardScaler()\n",
    "x_train_std = transfer_std.fit_transform(x_train)\n",
    "x_test_std = transfer_std.transform(x_test)  # 测试集不要用fit, 因为要保持和训练集处理方式一致\n",
    "\n",
    "# KNN\n",
    "estimator_knn = KNeighborsClassifier(n_neighbors=3)\n",
    "\n",
    "# 调优\n",
    "param_dict = {\"n_neighbors\": [1, 3, 5, 7, 9, 11]}\n",
    "estimator_knn = GridSearchCV(\n",
    "    estimator_knn, param_grid=param_dict, cv=10)  # 10折\n",
    "\n",
    "# 训练模型\n",
    "estimator_knn.fit(x_train_std, y_train)\n",
    "y_pred = estimator_knn.predict(x_test_std)\n",
    "\n",
    "print(\"预测值为:\", y_pred, \"\\n真实值为:\", y_test, \"\\n比较结果为:\", y_test == y_pred)\n",
    "print(\"准确率为：\\n\", estimator_knn.score(x_test_std, y_test))\n",
    "\n",
    "print(\"最佳参数:\\n\", estimator_knn.best_params_)\n",
    "print(\"最佳结果:\\n\", estimator_knn.best_score_)\n",
    "print(\"最佳估计器:\\n\", estimator_knn.best_estimator_)\n",
    "print(\"交叉验证结果:\\n\", estimator_knn.cv_results_)\n"
   ]
  },
  {
   "cell_type": "code",
   "execution_count": null,
   "metadata": {},
   "outputs": [],
   "source": []
  }
 ],
 "metadata": {
  "kernelspec": {
   "display_name": "Python 3",
   "language": "python",
   "name": "python3"
  },
  "language_info": {
   "codemirror_mode": {
    "name": "ipython",
    "version": 3
   },
   "file_extension": ".py",
   "mimetype": "text/x-python",
   "name": "python",
   "nbconvert_exporter": "python",
   "pygments_lexer": "ipython3",
   "version": "3.7.6"
  }
 },
 "nbformat": 4,
 "nbformat_minor": 4
}
