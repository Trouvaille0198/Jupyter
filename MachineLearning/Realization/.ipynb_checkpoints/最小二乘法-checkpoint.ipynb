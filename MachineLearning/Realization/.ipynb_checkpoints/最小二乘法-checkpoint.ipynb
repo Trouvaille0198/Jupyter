{
 "cells": [
  {
   "cell_type": "code",
   "execution_count": 1,
   "metadata": {},
   "outputs": [],
   "source": [
    "import numpy as np\n",
    "import pandas as pd"
   ]
  },
  {
   "cell_type": "markdown",
   "metadata": {},
   "source": [
    "波士顿房价数据集 字段说明\n",
    "- CRIM 所在镇的犯罪率\n",
    "- ZN 面积大于25000平方英尺的房屋所占比例\n",
    "- INDUS 所在镇非零售区域所占比例\n",
    "- CHAS 是否位于河边\n",
    "- NOX 一氧化氮浓度\n",
    "- RM 平均房间数量\n",
    "- AGE 1940年前建成房屋所占比例\n",
    "- DIS 房屋距离波士顿五大就业中心的加权距离\n",
    "- RAD 距离房屋最近的公路数\n",
    "- TAX 财产税额度\n",
    "- PTRATIO 所在镇师生比例\n",
    "- B $1000\\times (所在镇非美籍人口比例-0.63）^2$\n",
    "- LSTAT 所在镇弱势群体人口所占比例\n",
    "- MEDV 房屋平均价格"
   ]
  },
  {
   "cell_type": "code",
   "execution_count": null,
   "metadata": {},
   "outputs": [],
   "source": []
  }
 ],
 "metadata": {
  "kernelspec": {
   "display_name": "Python 3",
   "language": "python",
   "name": "python3"
  },
  "language_info": {
   "codemirror_mode": {
    "name": "ipython",
    "version": 3
   },
   "file_extension": ".py",
   "mimetype": "text/x-python",
   "name": "python",
   "nbconvert_exporter": "python",
   "pygments_lexer": "ipython3",
   "version": "3.7.6"
  }
 },
 "nbformat": 4,
 "nbformat_minor": 4
}
