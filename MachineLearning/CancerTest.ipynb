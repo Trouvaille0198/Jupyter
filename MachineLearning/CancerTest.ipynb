{
 "cells": [
  {
   "cell_type": "code",
   "execution_count": 33,
   "metadata": {},
   "outputs": [],
   "source": [
    "from sklearn.linear_model import LogisticRegression, SGDClassifier\n",
    "from sklearn.model_selection import train_test_split\n",
    "import pandas as pd\n",
    "import numpy as np\n",
    "from sklearn.preprocessing import StandardScaler\n",
    "from sklearn.metrics import classification_report, roc_auc_score, roc_curve\n",
    "import matplotlib.pyplot as plt\n",
    "import joblib"
   ]
  },
  {
   "cell_type": "code",
   "execution_count": 26,
   "metadata": {},
   "outputs": [
    {
     "name": "stdout",
     "output_type": "stream",
     "text": [
      "检测是否还有缺失值(全为false表示没有缺失值)\n",
      "Sample code number             False\n",
      "Clump Thickness                False\n",
      "Uniformity of Cell Size        False\n",
      "Uniformity of Cell Shape       False\n",
      "Marginal Adhesion              False\n",
      "Single Epithelial Cell Size    False\n",
      "Bare Nuclei                    False\n",
      "Bland Chromatin                False\n",
      "Normal Nucleoli                False\n",
      "Mitoses                        False\n",
      "Class                          False\n",
      "dtype: bool\n"
     ]
    }
   ],
   "source": [
    "# 文件读取\n",
    "column_name = ['Sample code number', 'Clump Thickness',\n",
    "               'Uniformity of Cell Size', 'Uniformity of Cell Shape', 'Marginal Adhesion',\n",
    "               'Single Epithelial Cell Size',\n",
    "               'Bare Nuclei', 'Bland Chromatin',\n",
    "               'Normal Nucleoli', 'Mitoses', 'Class']\n",
    "original_data = pd.read_csv('../Data/breast-cancer-wisconsin.data',names=column_name)\n",
    "original_data.head()\n",
    "# 缺失值处理\n",
    "# 第一步先替换 ? 为 nan\n",
    "data = original_data.replace(to_replace=\"?\", value=np.nan)\n",
    "data.dropna(inplace=True)\n",
    "print(\"检测是否还有缺失值(全为false表示没有缺失值)\")  # 检测是否还有缺失值\n",
    "print(data.isnull().any())\n",
    "# 第三步 筛选特征值和目标值\n",
    "x = data.iloc[:, 1:-1]  # 表示每一行数据都要, 从第一列到倒数第二列的column字段也要\n",
    "y = data[\"Class\"]\n",
    "x_train, x_test, y_train, y_test = train_test_split(x, y)"
   ]
  },
  {
   "cell_type": "code",
   "execution_count": 27,
   "metadata": {},
   "outputs": [
    {
     "name": "stdout",
     "output_type": "stream",
     "text": [
      "逻辑回归_权重系数为:  [[1.29472916 0.34073009 0.62685972 0.89541749 0.26073089 1.19993458\n",
      "  1.12891505 0.54143577 1.08360566]]\n",
      "逻辑回归_偏置为: [-1.18952183]\n",
      "逻辑回归_预测结果 [2 2 4 4 2 2 4 2 2 2 2 4 2 2 4 2 4 2 2 2 2 4 2 4 2 2 2 4 2 2 2 4 2 2 4 2 2\n",
      " 2 2 4 2 2 4 2 2 4 2 2 4 2 2 2 2 2 2 4 4 2 2 4 4 4 2 2 4 2 2 4 4 4 4 4 2 4\n",
      " 4 2 2 2 4 2 2 4 2 4 4 4 2 4 4 4 4 4 2 2 4 2 2 4 2 4 2 2 2 4 2 2 2 2 2 2 4\n",
      " 4 4 4 2 2 2 2 2 4 2 2 4 2 2 4 2 2 2 2 4 2 4 2 4 2 2 4 2 4 2 4 4 4 2 4 2 2\n",
      " 4 2 4 2 2 2 2 2 2 2 2 4 2 4 2 2 2 4 4 4 4 2 4]\n",
      "逻辑回归_预测结果对比: 202    True\n",
      "69     True\n",
      "465    True\n",
      "49     True\n",
      "689    True\n",
      "       ... \n",
      "457    True\n",
      "493    True\n",
      "60     True\n",
      "140    True\n",
      "210    True\n",
      "Name: Class, Length: 171, dtype: bool\n",
      "准确率为: 0.9649122807017544\n"
     ]
    },
    {
     "data": {
      "text/plain": [
       "'\\n但是实际上这个预测结果不是我们想要的, 以上只能说明预测的正确与否,\\n而事实上, 我们需要一种评估方式来显示我们对恶性breast的预测成功率, 也就是召回率\\n同时可以查看F1-score的稳健性\\n(召回率和精确率看笔记和截图)\\n所以下面换一种评估方法\\n'"
      ]
     },
     "execution_count": 27,
     "metadata": {},
     "output_type": "execute_result"
    }
   ],
   "source": [
    "# 第四步: 开始特征工程\n",
    "transfer = StandardScaler()\n",
    "x_train = transfer.fit_transform(x_train)\n",
    "x_test = transfer.transform(x_test)\n",
    "\n",
    "# 第五步, 预估器流程\n",
    "estimator = LogisticRegression()  # 默认参数\n",
    "estimator.fit(x_train, y_train)\n",
    "print(\"逻辑回归_权重系数为: \", estimator.coef_)\n",
    "print(\"逻辑回归_偏置为:\", estimator.intercept_)\n",
    "# 第六步, 模型评估\n",
    "y_predict = estimator.predict(x_test)\n",
    "print(\"逻辑回归_预测结果\", y_predict)\n",
    "print(\"逻辑回归_预测结果对比:\", y_test == y_predict)\n",
    "score = estimator.score(x_test, y_test)\n",
    "print(\"准确率为:\", score)\n",
    "# 2是良性的 4是恶性的\n",
    "\"\"\"\n",
    "但是实际上这个预测结果不是我们想要的, 以上只能说明预测的正确与否,\n",
    "而事实上, 我们需要一种评估方式来显示我们对恶性breast的预测成功率, 也就是召回率\n",
    "同时可以查看F1-score的稳健性\n",
    "(召回率和精确率看笔记和截图)\n",
    "所以下面换一种评估方法\n",
    "\"\"\""
   ]
  },
  {
   "cell_type": "code",
   "execution_count": 28,
   "metadata": {},
   "outputs": [
    {
     "name": "stdout",
     "output_type": "stream",
     "text": [
      "查看精确率,召回率,F1-score\n",
      "               precision    recall  f1-score   support\n",
      "\n",
      "          良性       0.97      0.97      0.97       104\n",
      "          恶性       0.96      0.96      0.96        67\n",
      "\n",
      "    accuracy                           0.96       171\n",
      "   macro avg       0.96      0.96      0.96       171\n",
      "weighted avg       0.96      0.96      0.96       171\n",
      "\n"
     ]
    }
   ],
   "source": [
    "Score = classification_report(y_test, y_predict, labels=[2, 4],\n",
    "                              target_names=[\"良性\", \"恶性\"])\n",
    "print(\"查看精确率,召回率,F1-score\\n\", Score)\n",
    "# support表示样本量"
   ]
  },
  {
   "cell_type": "code",
   "execution_count": 29,
   "metadata": {},
   "outputs": [
    {
     "name": "stdout",
     "output_type": "stream",
     "text": [
      "ROC曲线和AUC返回值为(三角形面积) 0.9631888633754305\n"
     ]
    },
    {
     "data": {
      "image/png": "[encoded data removed]",
      "text/plain": [
       "<Figure size 432x288 with 1 Axes>"
      ]
     },
     "metadata": {
      "needs_background": "light"
     },
     "output_type": "display_data"
    }
   ],
   "source": [
    "\"\"\"\n",
    "ROC曲线和AUC指标(样本分类不均衡的情况下,可以使用这种方法)\n",
    "AUC = 0.5 是瞎猜模型\n",
    "AUC = 1 是最好的模型\n",
    "AUC < 0.5 属于反向毒奶\n",
    "更多的看截图\n",
    "\"\"\"\n",
    "# 需要转换为0,1表示\n",
    "y_true = np.where(y_test > 3, 1, 0)  # 表示大于3为1,反之为0(class值为2和4)\n",
    "return_value = roc_auc_score(y_true, y_predict)\n",
    "print(\"ROC曲线和AUC返回值为(三角形面积)\", return_value)\n",
    "\n",
    "fpr, tpr, thresholds = roc_curve(y_true, y_predict)\n",
    "plt.plot(fpr, tpr)\n",
    "plt.show()"
   ]
  },
  {
   "cell_type": "code",
   "execution_count": 34,
   "metadata": {},
   "outputs": [
    {
     "data": {
      "text/plain": [
       "['Cancer-estimator-by-logistic-regression.pkl']"
      ]
     },
     "execution_count": 34,
     "metadata": {},
     "output_type": "execute_result"
    }
   ],
   "source": [
    "joblib.dump(estimator,'Cancer-estimator-by-logistic-regression.pkl')"
   ]
  },
  {
   "cell_type": "code",
   "execution_count": null,
   "metadata": {},
   "outputs": [],
   "source": []
  }
 ],
 "metadata": {
  "kernelspec": {
   "display_name": "Python 3",
   "language": "python",
   "name": "python3"
  },
  "language_info": {
   "codemirror_mode": {
    "name": "ipython",
    "version": 3
   },
   "file_extension": ".py",
   "mimetype": "text/x-python",
   "name": "python",
   "nbconvert_exporter": "python",
   "pygments_lexer": "ipython3",
   "version": "3.7.6"
  }
 },
 "nbformat": 4,
 "nbformat_minor": 4
}
