{
 "cells": [
  {
   "cell_type": "code",
   "execution_count": 7,
   "metadata": {},
   "outputs": [],
   "source": [
    "import numpy as np\n",
    "import pandas as pd\n",
    "from sklearn.linear_model import LinearRegression, SGDRegressor\n",
    "from sklearn.model_selection import train_test_split\n",
    "from sklearn.preprocessing import StandardScaler\n",
    "from sklearn.metrics import mean_squared_error  # 均方误差"
   ]
  },
  {
   "cell_type": "code",
   "execution_count": 6,
   "metadata": {},
   "outputs": [],
   "source": [
    "data=pd.read_csv('../Data/萧山房源数据整理版.csv')"
   ]
  },
  {
   "cell_type": "code",
   "execution_count": 8,
   "metadata": {},
   "outputs": [
    {
     "name": "stdout",
     "output_type": "stream",
     "text": [
      "<class 'pandas.core.frame.DataFrame'>\n",
      "RangeIndex: 2678 entries, 0 to 2677\n",
      "Data columns (total 22 columns):\n",
      " #   Column    Non-Null Count  Dtype  \n",
      "---  ------    --------------  -----  \n",
      " 0   小区        2678 non-null   object \n",
      " 1   价格（万元）    2678 non-null   float64\n",
      " 2   平米单价（元）   2678 non-null   int64  \n",
      " 3   建筑面积（平米）  2678 non-null   float64\n",
      " 4   小区域       2678 non-null   object \n",
      " 5   朝向        2678 non-null   object \n",
      " 6   装修情况      2678 non-null   object \n",
      " 7   户型结构      2678 non-null   object \n",
      " 8   建筑类型      2678 non-null   object \n",
      " 9   建筑结构      2678 non-null   object \n",
      " 10  房屋用途      2678 non-null   object \n",
      " 11  房屋年限      2678 non-null   object \n",
      " 12  产权所属      2678 non-null   object \n",
      " 13  配备电梯      2678 non-null   object \n",
      " 14  挂牌时间/秒    2678 non-null   float64\n",
      " 15  上次交易时间/秒  2678 non-null   float64\n",
      " 16  楼层高度      2678 non-null   object \n",
      " 17  总楼层数      2678 non-null   int64  \n",
      " 18  卧室数       2678 non-null   int64  \n",
      " 19  客厅数       2678 non-null   int64  \n",
      " 20  厨房数       2678 non-null   int64  \n",
      " 21  厕所数       2678 non-null   int64  \n",
      "dtypes: float64(4), int64(6), object(12)\n",
      "memory usage: 460.4+ KB\n"
     ]
    }
   ],
   "source": [
    "data.info()"
   ]
  },
  {
   "cell_type": "code",
   "execution_count": null,
   "metadata": {},
   "outputs": [],
   "source": [
    "data_part=data.drop([],axis=1)"
   ]
  }
 ],
 "metadata": {
  "kernelspec": {
   "display_name": "Python 3",
   "language": "python",
   "name": "python3"
  },
  "language_info": {
   "codemirror_mode": {
    "name": "ipython",
    "version": 3
   },
   "file_extension": ".py",
   "mimetype": "text/x-python",
   "name": "python",
   "nbconvert_exporter": "python",
   "pygments_lexer": "ipython3",
   "version": "3.8.5"
  }
 },
 "nbformat": 4,
 "nbformat_minor": 4
}
