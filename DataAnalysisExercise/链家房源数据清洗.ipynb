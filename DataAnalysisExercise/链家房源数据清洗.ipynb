{
 "cells": [
  {
   "cell_type": "code",
   "execution_count": 15,
   "metadata": {},
   "outputs": [],
   "source": [
    "import pandas as pd\n",
    "import numpy as np\n",
    "import time\n",
    "import re"
   ]
  },
  {
   "cell_type": "code",
   "execution_count": 16,
   "metadata": {},
   "outputs": [],
   "source": [
    "df=pd.read_csv('../Data/萧山房源.csv')"
   ]
  },
  {
   "cell_type": "code",
   "execution_count": 17,
   "metadata": {},
   "outputs": [],
   "source": [
    "df1=df.drop_duplicates()"
   ]
  },
  {
   "cell_type": "code",
   "execution_count": 18,
   "metadata": {},
   "outputs": [],
   "source": [
    "data=df1.drop(['标题','介绍','套内面积（平米）','大区域','建造时间','梯户比例'],axis=1)"
   ]
  },
  {
   "cell_type": "code",
   "execution_count": 19,
   "metadata": {},
   "outputs": [],
   "source": [
    "data['挂牌时间/秒']=data['挂牌时间'].apply(lambda x:time.mktime(time.strptime(x,'%Y-%m-%d')))\n",
    "\n",
    "data=data.drop(data[data['上次交易时间']=='暂无数据'].index)\n",
    "data['上次交易时间/秒']=data['上次交易时间'].apply(lambda x:time.mktime(time.strptime(x,'%Y-%m-%d')))\n",
    "data=data.drop(['挂牌时间','上次交易时间'],axis=1)"
   ]
  },
  {
   "cell_type": "code",
   "execution_count": 20,
   "metadata": {},
   "outputs": [],
   "source": [
    "def layout_handle(layout):\n",
    "    result = []\n",
    "    content = re.match('^(\\d)室(\\d)厅(\\d)厨(\\d)卫', layout)\n",
    "    if not content:\n",
    "        return [np.nan,np.nan,np.nan,np.nan]\n",
    "        print('!')\n",
    "    for i in range(1, 5):\n",
    "        result.append(content.group(i))\n",
    "    return result\n",
    "\n",
    "\n",
    "def floor_handle(floor):\n",
    "    result = []\n",
    "    content = re.match('^(.)楼层\\s\\(共(\\d*)层\\)', floor)\n",
    "    if not content:\n",
    "        return [np.nan,np.nan]\n",
    "        print('!')\n",
    "    for i in range(1, 3):\n",
    "        result.append(content.group(i))\n",
    "    return result"
   ]
  },
  {
   "cell_type": "code",
   "execution_count": 21,
   "metadata": {},
   "outputs": [],
   "source": [
    "data['楼层高度']=data['所在楼层'].apply(lambda x:floor_handle(x)[0])\n",
    "data['总楼层数']=data['所在楼层'].apply(lambda x:floor_handle(x)[1])\n",
    "data['卧室数']=data['户型'].apply(lambda x:layout_handle(x)[0])\n",
    "data['客厅数']=data['户型'].apply(lambda x:layout_handle(x)[1])\n",
    "data['厨房数']=data['户型'].apply(lambda x:layout_handle(x)[2])\n",
    "data['厕所数']=data['户型'].apply(lambda x:layout_handle(x)[3])"
   ]
  },
  {
   "cell_type": "code",
   "execution_count": 22,
   "metadata": {},
   "outputs": [],
   "source": [
    "data=data.drop(['所在楼层','户型'],axis=1)"
   ]
  },
  {
   "cell_type": "code",
   "execution_count": 23,
   "metadata": {},
   "outputs": [],
   "source": [
    "data=data.replace('暂无数据',np.nan)"
   ]
  },
  {
   "cell_type": "code",
   "execution_count": 24,
   "metadata": {},
   "outputs": [
    {
     "data": {
      "text/plain": [
       "小区          False\n",
       "价格（万元）       True\n",
       "平米单价（元）     False\n",
       "建筑面积（平米）    False\n",
       "小区域         False\n",
       "朝向          False\n",
       "装修情况        False\n",
       "户型结构         True\n",
       "建筑类型         True\n",
       "建筑结构        False\n",
       "房屋用途        False\n",
       "房屋年限        False\n",
       "产权所属        False\n",
       "配备电梯         True\n",
       "挂牌时间/秒      False\n",
       "上次交易时间/秒    False\n",
       "楼层高度        False\n",
       "总楼层数        False\n",
       "卧室数         False\n",
       "客厅数         False\n",
       "厨房数         False\n",
       "厕所数         False\n",
       "dtype: bool"
      ]
     },
     "execution_count": 24,
     "metadata": {},
     "output_type": "execute_result"
    }
   ],
   "source": [
    "data.isnull().any()"
   ]
  },
  {
   "cell_type": "code",
   "execution_count": 25,
   "metadata": {},
   "outputs": [
    {
     "name": "stdout",
     "output_type": "stream",
     "text": [
      "价格（万元）缺失值： 32\n",
      "户型结构缺失值： 178\n",
      "建筑类型缺失值： 36\n",
      "配备电梯缺失值： 114\n"
     ]
    }
   ],
   "source": [
    "print('价格（万元）缺失值：',data['价格（万元）'].isnull().sum())\n",
    "print('户型结构缺失值：',data['户型结构'].isnull().sum())\n",
    "print('建筑类型缺失值：',data['建筑类型'].isnull().sum())\n",
    "print('配备电梯缺失值：',data['配备电梯'].isnull().sum())"
   ]
  },
  {
   "cell_type": "code",
   "execution_count": 26,
   "metadata": {},
   "outputs": [],
   "source": [
    "data['户型结构']=data['户型结构'].fillna('平层')\n",
    "data['配备电梯']=data['配备电梯'].fillna('无')\n",
    "data['建筑类型']=data['建筑类型'].fillna('板楼')\n",
    "data=data.dropna(how='any')"
   ]
  },
  {
   "cell_type": "code",
   "execution_count": 27,
   "metadata": {},
   "outputs": [
    {
     "name": "stdout",
     "output_type": "stream",
     "text": [
      "价格（万元）缺失值： 0\n",
      "户型结构缺失值： 0\n",
      "建筑类型缺失值： 0\n",
      "配备电梯缺失值： 0\n"
     ]
    }
   ],
   "source": [
    "print('价格（万元）缺失值：',data['价格（万元）'].isnull().sum())\n",
    "print('户型结构缺失值：',data['户型结构'].isnull().sum())\n",
    "print('建筑类型缺失值：',data['建筑类型'].isnull().sum())\n",
    "print('配备电梯缺失值：',data['配备电梯'].isnull().sum())"
   ]
  },
  {
   "cell_type": "code",
   "execution_count": 28,
   "metadata": {},
   "outputs": [
    {
     "data": {
      "text/html": [
       "<div>\n",
       "<style scoped>\n",
       "    .dataframe tbody tr th:only-of-type {\n",
       "        vertical-align: middle;\n",
       "    }\n",
       "\n",
       "    .dataframe tbody tr th {\n",
       "        vertical-align: top;\n",
       "    }\n",
       "\n",
       "    .dataframe thead th {\n",
       "        text-align: right;\n",
       "    }\n",
       "</style>\n",
       "<table border=\"1\" class=\"dataframe\">\n",
       "  <thead>\n",
       "    <tr style=\"text-align: right;\">\n",
       "      <th></th>\n",
       "      <th>小区</th>\n",
       "      <th>价格（万元）</th>\n",
       "      <th>平米单价（元）</th>\n",
       "      <th>建筑面积（平米）</th>\n",
       "      <th>小区域</th>\n",
       "      <th>朝向</th>\n",
       "      <th>装修情况</th>\n",
       "      <th>户型结构</th>\n",
       "      <th>建筑类型</th>\n",
       "      <th>建筑结构</th>\n",
       "      <th>...</th>\n",
       "      <th>产权所属</th>\n",
       "      <th>配备电梯</th>\n",
       "      <th>挂牌时间/秒</th>\n",
       "      <th>上次交易时间/秒</th>\n",
       "      <th>楼层高度</th>\n",
       "      <th>总楼层数</th>\n",
       "      <th>卧室数</th>\n",
       "      <th>客厅数</th>\n",
       "      <th>厨房数</th>\n",
       "      <th>厕所数</th>\n",
       "    </tr>\n",
       "  </thead>\n",
       "  <tbody>\n",
       "    <tr>\n",
       "      <th>0</th>\n",
       "      <td>融信保利创世纪</td>\n",
       "      <td>760.0</td>\n",
       "      <td>85346</td>\n",
       "      <td>89.05</td>\n",
       "      <td>钱江世纪城</td>\n",
       "      <td>南</td>\n",
       "      <td>精装</td>\n",
       "      <td>平层</td>\n",
       "      <td>板楼</td>\n",
       "      <td>钢混结构</td>\n",
       "      <td>...</td>\n",
       "      <td>共有</td>\n",
       "      <td>有</td>\n",
       "      <td>1.610554e+09</td>\n",
       "      <td>1.539187e+09</td>\n",
       "      <td>中</td>\n",
       "      <td>32</td>\n",
       "      <td>3</td>\n",
       "      <td>2</td>\n",
       "      <td>1</td>\n",
       "      <td>2</td>\n",
       "    </tr>\n",
       "    <tr>\n",
       "      <th>1</th>\n",
       "      <td>德意中兴广场</td>\n",
       "      <td>225.0</td>\n",
       "      <td>17340</td>\n",
       "      <td>129.76</td>\n",
       "      <td>萧山新城区</td>\n",
       "      <td>南</td>\n",
       "      <td>精装</td>\n",
       "      <td>平层</td>\n",
       "      <td>板楼</td>\n",
       "      <td>钢混结构</td>\n",
       "      <td>...</td>\n",
       "      <td>非共有</td>\n",
       "      <td>有</td>\n",
       "      <td>1.599926e+09</td>\n",
       "      <td>1.216224e+09</td>\n",
       "      <td>中</td>\n",
       "      <td>30</td>\n",
       "      <td>3</td>\n",
       "      <td>2</td>\n",
       "      <td>1</td>\n",
       "      <td>2</td>\n",
       "    </tr>\n",
       "    <tr>\n",
       "      <th>2</th>\n",
       "      <td>保利霞飞郡</td>\n",
       "      <td>399.0</td>\n",
       "      <td>47620</td>\n",
       "      <td>83.79</td>\n",
       "      <td>萧山新城区</td>\n",
       "      <td>南</td>\n",
       "      <td>精装</td>\n",
       "      <td>平层</td>\n",
       "      <td>塔楼</td>\n",
       "      <td>钢混结构</td>\n",
       "      <td>...</td>\n",
       "      <td>共有</td>\n",
       "      <td>有</td>\n",
       "      <td>1.610208e+09</td>\n",
       "      <td>1.473437e+09</td>\n",
       "      <td>低</td>\n",
       "      <td>26</td>\n",
       "      <td>3</td>\n",
       "      <td>2</td>\n",
       "      <td>1</td>\n",
       "      <td>1</td>\n",
       "    </tr>\n",
       "  </tbody>\n",
       "</table>\n",
       "<p>3 rows × 22 columns</p>\n",
       "</div>"
      ],
      "text/plain": [
       "        小区  价格（万元）  平米单价（元）  建筑面积（平米）    小区域 朝向 装修情况 户型结构 建筑类型  建筑结构  ...  \\\n",
       "0  融信保利创世纪   760.0    85346     89.05  钱江世纪城  南   精装   平层   板楼  钢混结构  ...   \n",
       "1   德意中兴广场   225.0    17340    129.76  萧山新城区  南   精装   平层   板楼  钢混结构  ...   \n",
       "2    保利霞飞郡   399.0    47620     83.79  萧山新城区  南   精装   平层   塔楼  钢混结构  ...   \n",
       "\n",
       "  产权所属 配备电梯        挂牌时间/秒      上次交易时间/秒  楼层高度  总楼层数 卧室数 客厅数 厨房数 厕所数  \n",
       "0   共有    有  1.610554e+09  1.539187e+09     中    32   3   2   1   2  \n",
       "1  非共有    有  1.599926e+09  1.216224e+09     中    30   3   2   1   2  \n",
       "2   共有    有  1.610208e+09  1.473437e+09     低    26   3   2   1   1  \n",
       "\n",
       "[3 rows x 22 columns]"
      ]
     },
     "execution_count": 28,
     "metadata": {},
     "output_type": "execute_result"
    }
   ],
   "source": [
    "data.head(3)"
   ]
  },
  {
   "cell_type": "code",
   "execution_count": 29,
   "metadata": {},
   "outputs": [],
   "source": [
    "data.to_csv('../Data/萧山房源数据整理版.csv',index=False,encoding=\"utf-8-sig\")"
   ]
  }
 ],
 "metadata": {
  "kernelspec": {
   "display_name": "Python 3",
   "language": "python",
   "name": "python3"
  },
  "language_info": {
   "codemirror_mode": {
    "name": "ipython",
    "version": 3
   },
   "file_extension": ".py",
   "mimetype": "text/x-python",
   "name": "python",
   "nbconvert_exporter": "python",
   "pygments_lexer": "ipython3",
   "version": "3.8.5"
  }
 },
 "nbformat": 4,
 "nbformat_minor": 4
}
