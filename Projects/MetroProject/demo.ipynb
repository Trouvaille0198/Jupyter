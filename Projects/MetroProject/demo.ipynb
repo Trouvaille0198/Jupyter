{
 "cells": [
  {
   "cell_type": "code",
   "execution_count": 2,
   "metadata": {},
   "outputs": [],
   "source": [
    "import pandas as pd\n",
    "import numpy as np\n",
    "import seaborn as sns"
   ]
  },
  {
   "cell_type": "code",
   "execution_count": 4,
   "metadata": {},
   "outputs": [
    {
     "data": {
      "text/html": [
       "<div>\n",
       "<style scoped>\n",
       "    .dataframe tbody tr th:only-of-type {\n",
       "        vertical-align: middle;\n",
       "    }\n",
       "\n",
       "    .dataframe tbody tr th {\n",
       "        vertical-align: top;\n",
       "    }\n",
       "\n",
       "    .dataframe thead th {\n",
       "        text-align: right;\n",
       "    }\n",
       "</style>\n",
       "<table border=\"1\" class=\"dataframe\">\n",
       "  <thead>\n",
       "    <tr style=\"text-align: right;\">\n",
       "      <th></th>\n",
       "      <th>Unnamed: 0</th>\n",
       "      <th>index</th>\n",
       "      <th>userID</th>\n",
       "      <th>inTime</th>\n",
       "      <th>inLine</th>\n",
       "      <th>inStation</th>\n",
       "      <th>outTime</th>\n",
       "      <th>outLine</th>\n",
       "      <th>outStation</th>\n",
       "      <th>transfered_inTime</th>\n",
       "      <th>transfered_outTime</th>\n",
       "      <th>dayName</th>\n",
       "      <th>Day</th>\n",
       "      <th>temp</th>\n",
       "      <th>conditions</th>\n",
       "      <th>timecs</th>\n",
       "    </tr>\n",
       "  </thead>\n",
       "  <tbody>\n",
       "    <tr>\n",
       "      <th>0</th>\n",
       "      <td>0</td>\n",
       "      <td>14495</td>\n",
       "      <td>501731973</td>\n",
       "      <td>2015-04-01 05:18:58</td>\n",
       "      <td>7</td>\n",
       "      <td>上海大学站</td>\n",
       "      <td>2015-04-01 06:01:00</td>\n",
       "      <td>7</td>\n",
       "      <td>静安寺</td>\n",
       "      <td>19138.0</td>\n",
       "      <td>21660.0</td>\n",
       "      <td>2</td>\n",
       "      <td>1</td>\n",
       "      <td>15.8</td>\n",
       "      <td>mist</td>\n",
       "      <td>2522.0</td>\n",
       "    </tr>\n",
       "    <tr>\n",
       "      <th>1</th>\n",
       "      <td>1</td>\n",
       "      <td>4381</td>\n",
       "      <td>501731973</td>\n",
       "      <td>2015-04-01 05:18:58</td>\n",
       "      <td>7</td>\n",
       "      <td>上海大学站</td>\n",
       "      <td>2015-04-01 06:01:00</td>\n",
       "      <td>7</td>\n",
       "      <td>静安寺</td>\n",
       "      <td>19138.0</td>\n",
       "      <td>21660.0</td>\n",
       "      <td>2</td>\n",
       "      <td>1</td>\n",
       "      <td>15.8</td>\n",
       "      <td>mist</td>\n",
       "      <td>2522.0</td>\n",
       "    </tr>\n",
       "    <tr>\n",
       "      <th>2</th>\n",
       "      <td>2</td>\n",
       "      <td>14825</td>\n",
       "      <td>2703430117</td>\n",
       "      <td>2015-04-01 06:13:52</td>\n",
       "      <td>7</td>\n",
       "      <td>上海大学站</td>\n",
       "      <td>2015-04-01 06:44:24</td>\n",
       "      <td>7</td>\n",
       "      <td>静安寺</td>\n",
       "      <td>22432.0</td>\n",
       "      <td>24264.0</td>\n",
       "      <td>2</td>\n",
       "      <td>1</td>\n",
       "      <td>15.8</td>\n",
       "      <td>mist</td>\n",
       "      <td>1832.0</td>\n",
       "    </tr>\n",
       "    <tr>\n",
       "      <th>3</th>\n",
       "      <td>3</td>\n",
       "      <td>4711</td>\n",
       "      <td>2703430117</td>\n",
       "      <td>2015-04-01 06:13:52</td>\n",
       "      <td>7</td>\n",
       "      <td>上海大学站</td>\n",
       "      <td>2015-04-01 06:44:24</td>\n",
       "      <td>7</td>\n",
       "      <td>静安寺</td>\n",
       "      <td>22432.0</td>\n",
       "      <td>24264.0</td>\n",
       "      <td>2</td>\n",
       "      <td>1</td>\n",
       "      <td>15.8</td>\n",
       "      <td>mist</td>\n",
       "      <td>1832.0</td>\n",
       "    </tr>\n",
       "    <tr>\n",
       "      <th>4</th>\n",
       "      <td>4</td>\n",
       "      <td>14758</td>\n",
       "      <td>2503342758</td>\n",
       "      <td>2015-04-01 06:15:01</td>\n",
       "      <td>7</td>\n",
       "      <td>上海大学站</td>\n",
       "      <td>2015-04-01 06:44:38</td>\n",
       "      <td>7</td>\n",
       "      <td>静安寺</td>\n",
       "      <td>22501.0</td>\n",
       "      <td>24278.0</td>\n",
       "      <td>2</td>\n",
       "      <td>1</td>\n",
       "      <td>15.8</td>\n",
       "      <td>mist</td>\n",
       "      <td>1777.0</td>\n",
       "    </tr>\n",
       "  </tbody>\n",
       "</table>\n",
       "</div>"
      ],
      "text/plain": [
       "   Unnamed: 0  index      userID               inTime  inLine inStation  \\\n",
       "0           0  14495   501731973  2015-04-01 05:18:58       7     上海大学站   \n",
       "1           1   4381   501731973  2015-04-01 05:18:58       7     上海大学站   \n",
       "2           2  14825  2703430117  2015-04-01 06:13:52       7     上海大学站   \n",
       "3           3   4711  2703430117  2015-04-01 06:13:52       7     上海大学站   \n",
       "4           4  14758  2503342758  2015-04-01 06:15:01       7     上海大学站   \n",
       "\n",
       "               outTime  outLine outStation  transfered_inTime  \\\n",
       "0  2015-04-01 06:01:00        7        静安寺            19138.0   \n",
       "1  2015-04-01 06:01:00        7        静安寺            19138.0   \n",
       "2  2015-04-01 06:44:24        7        静安寺            22432.0   \n",
       "3  2015-04-01 06:44:24        7        静安寺            22432.0   \n",
       "4  2015-04-01 06:44:38        7        静安寺            22501.0   \n",
       "\n",
       "   transfered_outTime  dayName  Day  temp conditions  timecs  \n",
       "0             21660.0        2    1  15.8       mist  2522.0  \n",
       "1             21660.0        2    1  15.8       mist  2522.0  \n",
       "2             24264.0        2    1  15.8       mist  1832.0  \n",
       "3             24264.0        2    1  15.8       mist  1832.0  \n",
       "4             24278.0        2    1  15.8       mist  1777.0  "
      ]
     },
     "execution_count": 4,
     "metadata": {},
     "output_type": "execute_result"
    }
   ],
   "source": [
    "data = pd.read_csv('天气对行程耗时的影响/ultimate.csv')\n",
    "data.head()"
   ]
  },
  {
   "cell_type": "code",
   "execution_count": 13,
   "metadata": {},
   "outputs": [],
   "source": [
    "data1 = data.query('timecs < 3000')"
   ]
  },
  {
   "cell_type": "code",
   "execution_count": 16,
   "metadata": {},
   "outputs": [
    {
     "data": {
      "text/plain": [
       "<seaborn.axisgrid.FacetGrid at 0x24079732e48>"
      ]
     },
     "execution_count": 16,
     "metadata": {},
     "output_type": "execute_result"
    },
    {
     "data": {
      "image/png": "[encoded data removed]",
      "text/plain": [
       "<Figure size 360x360 with 1 Axes>"
      ]
     },
     "metadata": {},
     "output_type": "display_data"
    }
   ],
   "source": [
    "sns.set() \n",
    "sns.displot(x=data1['timecs'],data=data1,bins=30,kde=True)"
   ]
  }
 ],
 "metadata": {
  "kernelspec": {
   "display_name": "Python 3",
   "language": "python",
   "name": "python3"
  },
  "language_info": {
   "codemirror_mode": {
    "name": "ipython",
    "version": 3
   },
   "file_extension": ".py",
   "mimetype": "text/x-python",
   "name": "python",
   "nbconvert_exporter": "python",
   "pygments_lexer": "ipython3",
   "version": "3.7.6"
  }
 },
 "nbformat": 4,
 "nbformat_minor": 4
}
