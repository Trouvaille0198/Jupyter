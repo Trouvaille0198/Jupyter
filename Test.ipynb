{
 "cells": [
  {
   "cell_type": "code",
   "execution_count": 39,
   "metadata": {},
   "outputs": [],
   "source": [
    "with open('Data/score.txt') as file_obj:\n",
    "    data={}\n",
    "    for line in file_obj:\n",
    "        line_list=line.split()\n",
    "        data[line_list[0]]=line_list[1:]\n",
    "del data['考号']"
   ]
  },
  {
   "cell_type": "code",
   "execution_count": 40,
   "metadata": {},
   "outputs": [
    {
     "data": {
      "text/plain": [
       "{'10153450101': ['82', '78', '78'],\n",
       " '10153450102': ['72', '71', '78'],\n",
       " '10153450103': ['82', '52', '75'],\n",
       " '10153450104': ['62', '72', '58'],\n",
       " '10153450105': ['71', '70', '72'],\n",
       " '10153450106': ['85', '90', '70'],\n",
       " '10153450107': ['65', '69', '86'],\n",
       " '10153450108': ['74', '50', '68'],\n",
       " '10153450109': ['80', '68', '58'],\n",
       " '10153450110': ['86', '87', '90'],\n",
       " '10153450111': ['96', '67', '78'],\n",
       " '10153450112': ['78', '60', '76'],\n",
       " '10153450113': ['56', '69', '98'],\n",
       " '10153450114': ['79', '89', '87'],\n",
       " '10153450115': ['70', '79', '86']}"
      ]
     },
     "execution_count": 40,
     "metadata": {},
     "output_type": "execute_result"
    }
   ],
   "source": [
    "data"
   ]
  },
  {
   "cell_type": "code",
   "execution_count": 41,
   "metadata": {},
   "outputs": [],
   "source": [
    "for key,value in data.items():\n",
    "    total_score=int(value[0])+int(value[1])+int(value[2])\n",
    "    if total_score <180 or int(value[0])<60 or int(value[1])<60 or int(value[2])<60:\n",
    "        value.append('不及格')\n",
    "    elif total_score>=260 and int(value[0])>=85 and int(value[1])>=85 or int(value[2])>=85:\n",
    "        value.append('优秀')\n",
    "    else:\n",
    "        value.append('及格')"
   ]
  },
  {
   "cell_type": "code",
   "execution_count": 42,
   "metadata": {},
   "outputs": [
    {
     "data": {
      "text/plain": [
       "{'10153450101': ['82', '78', '78', '及格'],\n",
       " '10153450102': ['72', '71', '78', '及格'],\n",
       " '10153450103': ['82', '52', '75', '不及格'],\n",
       " '10153450104': ['62', '72', '58', '不及格'],\n",
       " '10153450105': ['71', '70', '72', '及格'],\n",
       " '10153450106': ['85', '90', '70', '及格'],\n",
       " '10153450107': ['65', '69', '86', '优秀'],\n",
       " '10153450108': ['74', '50', '68', '不及格'],\n",
       " '10153450109': ['80', '68', '58', '不及格'],\n",
       " '10153450110': ['86', '87', '90', '优秀'],\n",
       " '10153450111': ['96', '67', '78', '及格'],\n",
       " '10153450112': ['78', '60', '76', '及格'],\n",
       " '10153450113': ['56', '69', '98', '不及格'],\n",
       " '10153450114': ['79', '89', '87', '优秀'],\n",
       " '10153450115': ['70', '79', '86', '优秀']}"
      ]
     },
     "execution_count": 42,
     "metadata": {},
     "output_type": "execute_result"
    }
   ],
   "source": [
    "data"
   ]
  },
  {
   "cell_type": "code",
   "execution_count": 65,
   "metadata": {},
   "outputs": [],
   "source": [
    "import seaborn as sns\n",
    "import matplotlib.pyplot as plt"
   ]
  },
  {
   "cell_type": "code",
   "execution_count": 48,
   "metadata": {},
   "outputs": [],
   "source": [
    "program=[value[0] for value in data.values()]\n",
    "biology=[value[1] for value in data.values()]\n",
    "science=[value[2] for value in data.values()]"
   ]
  },
  {
   "cell_type": "code",
   "execution_count": 70,
   "metadata": {},
   "outputs": [
    {
     "data": {
      "text/plain": [
       "(array([5., 3., 3., 4.]),\n",
       " array([ 0.  ,  3.25,  6.5 ,  9.75, 13.  ]),\n",
       " <BarContainer object of 4 artists>)"
      ]
     },
     "execution_count": 70,
     "metadata": {},
     "output_type": "execute_result"
    },
    {
     "data": {
      "image/png": "[encoded data removed]",
      "text/plain": [
       "<Figure size 432x288 with 1 Axes>"
      ]
     },
     "metadata": {
      "needs_background": "light"
     },
     "output_type": "display_data"
    }
   ],
   "source": [
    "plt.figure()\n",
    "plt.hist(program,bins=4)"
   ]
  },
  {
   "cell_type": "code",
   "execution_count": 71,
   "metadata": {},
   "outputs": [
    {
     "data": {
      "text/plain": [
       "(array([4., 4., 3., 4.]),\n",
       " array([ 0.  ,  3.25,  6.5 ,  9.75, 13.  ]),\n",
       " <BarContainer object of 4 artists>)"
      ]
     },
     "execution_count": 71,
     "metadata": {},
     "output_type": "execute_result"
    },
    {
     "data": {
      "image/png": "[encoded data removed]",
      "text/plain": [
       "<Figure size 432x288 with 1 Axes>"
      ]
     },
     "metadata": {
      "needs_background": "light"
     },
     "output_type": "display_data"
    }
   ],
   "source": [
    "plt.hist(biology,bins=4)"
   ]
  },
  {
   "cell_type": "code",
   "execution_count": 72,
   "metadata": {},
   "outputs": [
    {
     "data": {
      "text/plain": [
       "(array([6., 2., 4., 3.]),\n",
       " array([ 0. ,  2.5,  5. ,  7.5, 10. ]),\n",
       " <BarContainer object of 4 artists>)"
      ]
     },
     "execution_count": 72,
     "metadata": {},
     "output_type": "execute_result"
    },
    {
     "data": {
      "image/png": "[encoded data removed]",
      "text/plain": [
       "<Figure size 432x288 with 1 Axes>"
      ]
     },
     "metadata": {
      "needs_background": "light"
     },
     "output_type": "display_data"
    }
   ],
   "source": [
    "plt.hist(science,bins=4)"
   ]
  },
  {
   "cell_type": "code",
   "execution_count": 78,
   "metadata": {},
   "outputs": [],
   "source": [
    "file_path='Data/level.txt'\n",
    "with open(file_path,'w') as file_obj:\n",
    "    for key,value in data.items():\n",
    "        one_piece=key+' '+value[-1]+'\\n'\n",
    "        file_obj.write(one_piece)"
   ]
  },
  {
   "cell_type": "code",
   "execution_count": null,
   "metadata": {},
   "outputs": [],
   "source": []
  }
 ],
 "metadata": {
  "kernelspec": {
   "display_name": "Python 3",
   "language": "python",
   "name": "python3"
  },
  "language_info": {
   "codemirror_mode": {
    "name": "ipython",
    "version": 3
   },
   "file_extension": ".py",
   "mimetype": "text/x-python",
   "name": "python",
   "nbconvert_exporter": "python",
   "pygments_lexer": "ipython3",
   "version": "3.8.5"
  }
 },
 "nbformat": 4,
 "nbformat_minor": 4
}
