{
 "cells": [
  {
   "cell_type": "code",
   "execution_count": 3,
   "metadata": {},
   "outputs": [],
   "source": [
    "import requests\n",
    "from requests.exceptions import RequestException\n",
    "from lxml import etree\n",
    "import pandas as pd\n",
    "import numpy as np\n",
    "from xpinyin import Pinyin\n",
    "# 拼音对象初始化\n",
    "p = Pinyin()"
   ]
  },
  {
   "cell_type": "code",
   "execution_count": 8,
   "metadata": {},
   "outputs": [],
   "source": [
    "class Lianjia_crawler():\n",
    "    def __init__(self, city, location, page):\n",
    "        self.city = city\n",
    "        self.location = location\n",
    "        self.page = page\n",
    "\n",
    "    def organize_url(self, i):\n",
    "        '''\n",
    "        组合url\n",
    "        '''\n",
    "        pinyin_city = p.get_initials(self.city, '').lower()  # 将城市名由中文改为首字母小写\n",
    "        pinyin_location = p.get_pinyin(self.location, '')  # 将区域由中文改为拼音\n",
    "        url = 'https://{}.lianjia.com/ershoufang/{}/pg{}sf1sf2sf3/'.format(\n",
    "            pinyin_city, pinyin_location, str(i))\n",
    "        return url\n",
    "\n",
    "    def get_one_page_text(self, url):\n",
    "        '''\n",
    "        获取单个页面的html文本\n",
    "        '''\n",
    "        try:\n",
    "            headers = {\n",
    "                'User-Agent':\n",
    "                'Mozilla/5.0 (Macintosh; Intel Mac OS X 10_11_4) AppleWebKit/537.36 (KHTML, like Gecko) Chrome/53.0.2785.116 Safari/537.36'\n",
    "            }\n",
    "            response = requests.get(url, headers=headers)\n",
    "            if (response.status_code == 200):\n",
    "                return response.text\n",
    "            return None\n",
    "        except RequestException:\n",
    "            return None\n",
    "\n",
    "    def switch_to_xpath(self, url_text):\n",
    "        '''\n",
    "        将html文本转换为xpath解析对象\n",
    "        '''\n",
    "        html = etree.HTML(url_text)\n",
    "        return html\n",
    "\n",
    "    def get_house_list(self, html):\n",
    "        '''\n",
    "        获取单个页面的房源url列表\n",
    "        '''\n",
    "        one_page_url = html.xpath('//div[@class=\"title\"]/a/@href')\n",
    "        return one_page_url\n",
    "\n",
    "    def get_whole_house_url(self):\n",
    "        '''\n",
    "        获取所有房源url列表\n",
    "        '''\n",
    "        url_list = []\n",
    "        for i in range(1, int(self.page) + 1):\n",
    "            url = self.organize_url(i)\n",
    "            text = self.get_one_page_text(url)\n",
    "            html = self.switch_to_xpath(text)\n",
    "            url_list.extend(self.get_house_list(html))\n",
    "        return url_list"
   ]
  },
  {
   "cell_type": "code",
   "execution_count": 31,
   "metadata": {},
   "outputs": [],
   "source": [
    "def get_one_page(url):\n",
    "    '''\n",
    "    获取单个页面的html\n",
    "    :param url: string类型，网址\n",
    "    :return: string类型，单页html文本\n",
    "    '''\n",
    "    try:\n",
    "        headers = {\n",
    "    'User-Agent': 'Mozilla/5.0 (Macintosh; Intel Mac OS X 10_11_4) AppleWebKit/537.36 (KHTML, like Gecko) Chrome/53.0.2785.116 Safari/537.36'\n",
    "}\n",
    "        response = requests.get(url,headers=headers)\n",
    "        if(response.status_code == 200):\n",
    "            return response.text\n",
    "        return None\n",
    "    except RequestException:\n",
    "        return None"
   ]
  },
  {
   "cell_type": "code",
   "execution_count": 32,
   "metadata": {},
   "outputs": [],
   "source": [
    "crawler = Lianjia_crawler('杭州', '萧山', 5)\n",
    "list=crawler.get_whole_house_url()\n",
    "html_list = []\n",
    "for url in list:\n",
    "    text=get_one_page(url)\n",
    "    html_list.append(etree.HTML(text))"
   ]
  },
  {
   "cell_type": "code",
   "execution_count": 82,
   "metadata": {},
   "outputs": [],
   "source": [
    "html=html_list[6]"
   ]
  },
  {
   "cell_type": "code",
   "execution_count": 50,
   "metadata": {},
   "outputs": [
    {
     "data": {
      "text/plain": [
       "'北辰国颂府 4室2厅 南'"
      ]
     },
     "execution_count": 50,
     "metadata": {},
     "output_type": "execute_result"
    }
   ],
   "source": [
    "title = html.xpath('//div[@class=\"title-wrapper\"]//h1[@class=\"main\"]/@title')[0]\n",
    "title"
   ]
  },
  {
   "cell_type": "code",
   "execution_count": 52,
   "metadata": {},
   "outputs": [
    {
     "data": {
      "text/plain": [
       "'无'"
      ]
     },
     "execution_count": 52,
     "metadata": {},
     "output_type": "execute_result"
    }
   ],
   "source": [
    "sub = html.xpath(\n",
    "    '//div[@class=\"title-wrapper\"]//div[@class=\"sub\"]/@title')[0]\n",
    "if sub == '链家网真房源，更多房源信息请联系经纪人':\n",
    "    sub = '无'\n",
    "sub"
   ]
  },
  {
   "cell_type": "code",
   "execution_count": 62,
   "metadata": {},
   "outputs": [
    {
     "name": "stdout",
     "output_type": "stream",
     "text": [
      "北辰国颂府\n"
     ]
    }
   ],
   "source": [
    "around_info = html.xpath('//div[@class=\"aroundInfo\"]')[0]\n",
    "\n",
    "community = around_info.xpath(\n",
    "            '//div[@class=\"communityName\"]//a[@class=\"info \"]/text()')[0]\n",
    "print(community)"
   ]
  },
  {
   "cell_type": "code",
   "execution_count": 63,
   "metadata": {},
   "outputs": [
    {
     "name": "stdout",
     "output_type": "stream",
     "text": [
      "萧山 萧山市区\n"
     ]
    }
   ],
   "source": [
    "main_area = around_info.xpath(\n",
    "    '//div[@class=\"areaName\"]//a[1]/text()')[0]\n",
    "sub_area = around_info.xpath(\n",
    "    '//div[@class=\"areaName\"]//a[2]/text()')[0]\n",
    "print(main_area,sub_area)"
   ]
  },
  {
   "cell_type": "code",
   "execution_count": 65,
   "metadata": {},
   "outputs": [
    {
     "name": "stdout",
     "output_type": "stream",
     "text": [
      "899 52132\n"
     ]
    }
   ],
   "source": [
    "total_price = int(html.xpath(\n",
    "    '//div[@class=\"price \"]//span[@class=\"total\"]/text()')[0])  # 价格（万元）\n",
    "average_price = html.xpath(\n",
    "    '//div[@class=\"price \"]//span[@class=\"unitPriceValue\"]/text()')[\n",
    "        0]  # 平米单价（元）\n",
    "print(total_price,average_price)"
   ]
  },
  {
   "cell_type": "code",
   "execution_count": 71,
   "metadata": {},
   "outputs": [
    {
     "name": "stdout",
     "output_type": "stream",
     "text": [
      "未知年建\n"
     ]
    }
   ],
   "source": [
    "build_time = html.xpath(\n",
    "    '//div[@class=\"houseInfo\"]//div[@class=\"area\"]/div[@class=\"subInfo noHidden\"]/text()'\n",
    ")[0]  #建造时间\n",
    "\n",
    "if build_time[:3].isdigit() == False:\n",
    "    build_time = build_time[:4]\n",
    "else:\n",
    "    build_time = int(build_time[:4])\n",
    "print(build_time)"
   ]
  },
  {
   "cell_type": "code",
   "execution_count": 72,
   "metadata": {},
   "outputs": [],
   "source": [
    "intro_content = html.xpath('//div[@class=\"introContent\"]')[0]"
   ]
  },
  {
   "cell_type": "code",
   "execution_count": 85,
   "metadata": {},
   "outputs": [
    {
     "data": {
      "text/plain": [
       "'172.45'"
      ]
     },
     "execution_count": 85,
     "metadata": {},
     "output_type": "execute_result"
    }
   ],
   "source": [
    "total_area = intro_content.xpath(\n",
    "    '//div[@class=\"base\"]//ul/li/span[contains(text(),\"建筑面积\")]/../text()')[0][:-1]\n",
    "total_area"
   ]
  },
  {
   "cell_type": "code",
   "execution_count": 86,
   "metadata": {},
   "outputs": [
    {
     "data": {
      "text/plain": [
       "'133.76'"
      ]
     },
     "execution_count": 86,
     "metadata": {},
     "output_type": "execute_result"
    }
   ],
   "source": [
    "inner_area = intro_content.xpath(\n",
    "    '//div[@class=\"base\"]//ul/li/span[contains(text(),\"套内面积\")]/../text()'\n",
    ")[0][:-1]  # 套内面积（平米）\n",
    "inner_area"
   ]
  },
  {
   "cell_type": "code",
   "execution_count": 89,
   "metadata": {},
   "outputs": [
    {
     "data": {
      "text/plain": [
       "'4室2厅1厨2卫'"
      ]
     },
     "execution_count": 89,
     "metadata": {},
     "output_type": "execute_result"
    }
   ],
   "source": [
    "lay_out = intro_content.xpath(\n",
    "            '//div[@class=\"base\"]//ul/li/span[contains(text(),\"房屋户型\")]/../text()'\n",
    "        )[0]  # 户型\n",
    "lay_out"
   ]
  },
  {
   "cell_type": "code",
   "execution_count": 93,
   "metadata": {},
   "outputs": [
    {
     "data": {
      "text/plain": [
       "int"
      ]
     },
     "execution_count": 93,
     "metadata": {},
     "output_type": "execute_result"
    }
   ],
   "source": [
    "a=2\n",
    "type(a)"
   ]
  },
  {
   "cell_type": "code",
   "execution_count": 122,
   "metadata": {},
   "outputs": [],
   "source": [
    "def is_null(feature):\n",
    "    '''\n",
    "    判断空特征\n",
    "    '''\n",
    "    if not feature:\n",
    "        return ['暂无数据']\n",
    "    else:\n",
    "        return feature"
   ]
  },
  {
   "cell_type": "code",
   "execution_count": 113,
   "metadata": {},
   "outputs": [],
   "source": [
    "intro_content = html.xpath('//div[@class=\"introContent\"]')[0]"
   ]
  },
  {
   "cell_type": "code",
   "execution_count": 124,
   "metadata": {},
   "outputs": [
    {
     "data": {
      "text/plain": [
       "'暂无数据'"
      ]
     },
     "execution_count": 124,
     "metadata": {},
     "output_type": "execute_result"
    }
   ],
   "source": [
    "ownership = is_null(intro_content.xpath(\n",
    "    '//div[@class=\"transaction\"]//ul/li/span[contains(text(),\"房屋途\")]/../span[last()]/text()'\n",
    "))[0]  # 产权所属\n",
    "ownership"
   ]
  },
  {
   "cell_type": "code",
   "execution_count": 125,
   "metadata": {},
   "outputs": [],
   "source": [
    "columns = [\n",
    "            '标题', '介绍', '小区', '价格（万元）', '平米单价（元）', '建筑面积（平米）', '套内面积（平米）',\n",
    "            '大区域', '小区域', '户型', '朝向', '所在楼层', '装修情况', '户型结构', '建筑类型', '建筑结构',\n",
    "            '建造时间', '房屋用途', '挂牌时间', '上次交易时间', '房屋年限', '产权所属', '配备电梯', '梯户比例'\n",
    "        ]"
   ]
  },
  {
   "cell_type": "code",
   "execution_count": 126,
   "metadata": {},
   "outputs": [
    {
     "data": {
      "text/plain": [
       "24"
      ]
     },
     "execution_count": 126,
     "metadata": {},
     "output_type": "execute_result"
    }
   ],
   "source": [
    "len(columns)"
   ]
  },
  {
   "cell_type": "code",
   "execution_count": 135,
   "metadata": {},
   "outputs": [],
   "source": [
    "import tkinter as tk\n",
    "from tkinter import filedialog\n",
    "import tkinter.messagebox as msg\n",
    "import configparser as cp\n",
    "import ntpath\n",
    "\n",
    "class CentralForm(tk.Toplevel):\n",
    "    def __init__(self, master, my_height=80):\n",
    "        super().__init__()\n",
    "        self.master = master\n",
    "\n",
    "        master_pos_x = self.master.winfo_x()\n",
    "        master_pos_y = self.master.winfo_y()\n",
    "\n",
    "        master_width = self.master.winfo_width()\n",
    "        master_height = self.master.winfo_height()\n",
    "\n",
    "        my_width = 300\n",
    "\n",
    "        pos_x = (master_pos_x + (master_width // 2)) - (my_width // 2)\n",
    "        pos_y = (master_pos_y + (master_height // 2)) - (my_height // 2)\n",
    "\n",
    "        geometry = \"{}x{}+{}+{}\".format(my_width, my_height, pos_x, pos_y)\n",
    "        self.geometry(geometry)\n",
    "\n",
    "\n",
    "class AddSectionForm(CentralForm):\n",
    "    def __init__(self, master):\n",
    "        super().__init__(master)\n",
    "\n",
    "        self.title(\"Add New Section\")\n",
    "\n",
    "        self.main_frame = tk.Frame(self, bg=\"lightgrey\")\n",
    "        self.name_label = tk.Label(self.main_frame, text=\"Section Name\", bg=\"lightgrey\", fg=\"black\")\n",
    "        self.name_entry = tk.Entry(self.main_frame, bg=\"white\", fg=\"black\")\n",
    "        self.submit_button = tk.Button(self.main_frame, text=\"Create\", command=self.create_section)\n",
    "\n",
    "        self.main_frame.pack(expand=1, fill=tk.BOTH)\n",
    "        self.name_label.pack(side=tk.TOP, fill=tk.X)\n",
    "        self.name_entry.pack(side=tk.TOP, fill=tk.X, padx=10)\n",
    "        self.submit_button.pack(side=tk.TOP, fill=tk.X, pady=(10,0), padx=10)\n",
    "\n",
    "    def create_section(self):\n",
    "        section_name = self.name_entry.get()\n",
    "        if section_name:\n",
    "            self.master.add_section(section_name)\n",
    "            self.destroy()\n",
    "            msg.showinfo(\"Section Added\", \"Section \" + section_name + \" successfully added\")\n",
    "        else:\n",
    "            msg.showerror(\"No Name\", \"Please enter a section name\", parent=self)\n",
    "\n",
    "\n",
    "class AddItemForm(CentralForm):\n",
    "    def __init__(self,  master):\n",
    "\n",
    "        my_height = 120\n",
    "\n",
    "        super().__init__(master, my_height)\n",
    "\n",
    "        self.title(\"Add New Item\")\n",
    "\n",
    "        self.main_frame = tk.Frame(self, bg=\"lightgrey\")\n",
    "        self.name_label = tk.Label(self.main_frame, text=\"Item Name\", bg=\"lightgrey\", fg=\"black\")\n",
    "        self.name_entry = tk.Entry(self.main_frame, bg=\"white\", fg=\"black\")\n",
    "        self.value_label = tk.Label(self.main_frame, text=\"Item Value\", bg=\"lightgrey\", fg=\"black\")\n",
    "        self.value_entry = tk.Entry(self.main_frame, bg=\"white\", fg=\"black\")\n",
    "        self.submit_button = tk.Button(self.main_frame, text=\"Create\", command=self.create_item)\n",
    "\n",
    "        self.main_frame.pack(fill=tk.BOTH, expand=1)\n",
    "        self.name_label.pack(side=tk.TOP, fill=tk.X)\n",
    "        self.name_entry.pack(side=tk.TOP, fill=tk.X, padx=10)\n",
    "        self.value_label.pack(side=tk.TOP, fill=tk.X)\n",
    "        self.value_entry.pack(side=tk.TOP, fill=tk.X, padx=10)\n",
    "        self.submit_button.pack(side=tk.TOP, fill=tk.X, pady=(10,0), padx=10)\n",
    "\n",
    "    def create_item(self):\n",
    "        item_name = self.name_entry.get()\n",
    "        item_value = self.value_entry.get()\n",
    "        if item_name and item_value:\n",
    "            self.master.add_item(item_name, item_value)\n",
    "            self.destroy()\n",
    "            msg.showinfo(\"Item Added\", item_name + \" successfully added\")\n",
    "        else:\n",
    "            msg.showerror(\"Missing Info\", \"Please enter a name and value\", parent=self)\n",
    "\n",
    "\n",
    "class IniEditor(tk.Tk):\n",
    "\n",
    "    def __init__(self):\n",
    "        super().__init__()\n",
    "\n",
    "        self.title(\"Config File Editor\")\n",
    "        self.geometry(\"600x600\")\n",
    "\n",
    "        self.active_ini = \"\"\n",
    "        self.active_ini_filename = \"\"\n",
    "        self.ini_elements = {}\n",
    "\n",
    "        self.menubar = tk.Menu(self, bg=\"lightgrey\", fg=\"black\")\n",
    "\n",
    "        self.file_menu = tk.Menu(self.menubar, tearoff=0, bg=\"lightgrey\", fg=\"black\")\n",
    "        self.file_menu.add_command(label=\"New\", command=self.file_new, accelerator=\"Ctrl+N\")\n",
    "        self.file_menu.add_command(label=\"Open\", command=self.file_open, accelerator=\"Ctrl+O\")\n",
    "        self.file_menu.add_command(label=\"Save\", command=self.file_save, accelerator=\"Ctrl+S\")\n",
    "\n",
    "        self.menubar.add_cascade(label=\"File\", menu=self.file_menu)\n",
    "\n",
    "        self.config(menu=self.menubar)\n",
    "\n",
    "        self.left_frame = tk.Frame(self, width=200, bg=\"grey\")\n",
    "        self.left_frame.pack_propagate(0)\n",
    "\n",
    "        self.right_frame = tk.Frame(self, width=400, bg=\"lightgrey\")\n",
    "        self.right_frame.pack_propagate(0)\n",
    "\n",
    "        self.file_name_var = tk.StringVar(self)\n",
    "        self.file_name_label = tk.Label(self, textvar=self.file_name_var, fg=\"black\", bg=\"white\", font=(None, 12))\n",
    "        self.file_name_label.pack(side=tk.TOP, expand=1, fill=tk.X, anchor=\"n\")\n",
    "\n",
    "        self.section_select = tk.Listbox(self.left_frame, selectmode=tk.SINGLE)\n",
    "        self.section_select.configure(exportselection=False)\n",
    "        self.section_select.pack(expand=1)\n",
    "        self.section_select.bind(\"<<ListboxSelect>>\", self.display_section_contents)\n",
    "\n",
    "        self.section_add_button = tk.Button(self.left_frame, text=\"Add Section\", command=self.add_section_form)\n",
    "        self.section_add_button.pack(pady=(0,20))\n",
    "\n",
    "        self.left_frame.pack(side=tk.LEFT, fill=tk.BOTH)\n",
    "        self.right_frame.pack(side=tk.LEFT, expand=1, fill=tk.BOTH)\n",
    "\n",
    "        self.right_frame.bind(\"<Configure>\", self.frame_height)\n",
    "\n",
    "        self.bind(\"<Control-n>\", self.file_new)\n",
    "        self.bind(\"<Control-o>\", self.file_open)\n",
    "        self.bind(\"<Control-s>\", self.file_save)\n",
    "\n",
    "    def add_section_form(self):\n",
    "        if not self.active_ini:\n",
    "            msg.showerror(\"No File Open\", \"Please open an ini file first\")\n",
    "            return\n",
    "\n",
    "        AddSectionForm(self)\n",
    "\n",
    "    def add_section(self, section_name):\n",
    "        self.active_ini[section_name] = {}\n",
    "        self.populate_section_select_box()\n",
    "\n",
    "    def frame_height(self, event=None):\n",
    "        new_height = self.winfo_height()\n",
    "        self.right_frame.configure(height=new_height)\n",
    "\n",
    "    def file_new(self, event=None):\n",
    "        ini_file = filedialog.asksaveasfilename(filetypes=[(\"Configuration file\", \"*.ini\")])\n",
    "\n",
    "        while ini_file and not ini_file.endswith(\".ini\"):\n",
    "            msg.showerror(\"Wrong Filetype\", \"Filename must end in .ini\")\n",
    "            ini_file = filedialog.askopenfilename()\n",
    "\n",
    "        if ini_file:\n",
    "            self.parse_ini_file(ini_file)\n",
    "\n",
    "    def file_open(self, event=None):\n",
    "        ini_file = filedialog.askopenfilename(filetypes=[(\"Configuration file\", \"*.ini\")])\n",
    "\n",
    "        while ini_file and not ini_file.endswith(\".ini\"):\n",
    "            msg.showerror(\"Wrong Filetype\", \"Please select an ini file\")\n",
    "            ini_file = filedialog.askopenfilename()\n",
    "\n",
    "        if ini_file:\n",
    "            self.parse_ini_file(ini_file)\n",
    "\n",
    "    def file_save(self, event=None):\n",
    "        if not self.active_ini:\n",
    "            msg.showerror(\"No File Open\", \"Please open an ini file first\")\n",
    "            return\n",
    "\n",
    "        for section in self.active_ini:\n",
    "            for key in self.active_ini[section]:\n",
    "                try:\n",
    "                    self.active_ini[section][key] = self.ini_elements[section][key].get()\n",
    "                except KeyError:\n",
    "                    # wasn't changed, no need to save it\n",
    "                    pass\n",
    "\n",
    "        with open(self.active_ini_filename, \"w\") as ini_file:\n",
    "            self.active_ini.write(ini_file)\n",
    "\n",
    "        msg.showinfo(\"Saved\", \"File Saved Successfully\")\n",
    "\n",
    "    def add_item_form(self):\n",
    "        AddItemForm(self)\n",
    "\n",
    "    def add_item(self, item_name, item_value):\n",
    "        chosen_section = self.section_select.get(self.section_select.curselection())\n",
    "        self.active_ini[chosen_section][item_name] = item_value\n",
    "        self.display_section_contents()\n",
    "\n",
    "    def parse_ini_file(self, ini_file):\n",
    "        self.active_ini = cp.ConfigParser()\n",
    "        self.active_ini.read(ini_file)\n",
    "        self.active_ini_filename = ini_file\n",
    "        self.populate_section_select_box()\n",
    "\n",
    "        file_name = \": \".join([ntpath.basename(ini_file), ini_file])\n",
    "        self.file_name_var.set(file_name)\n",
    "\n",
    "        self.clear_right_frame()\n",
    "\n",
    "    def clear_right_frame(self):\n",
    "        for child in self.right_frame.winfo_children():\n",
    "            child.destroy()\n",
    "\n",
    "    def populate_section_select_box(self):\n",
    "        self.section_select.delete(0, tk.END)\n",
    "\n",
    "        for index, section in enumerate(self.active_ini.sections()):\n",
    "            self.section_select.insert(index, section)\n",
    "            self.ini_elements[section] = {}\n",
    "        if \"DEFAULT\" in self.active_ini:\n",
    "            self.section_select.insert(len(self.active_ini.sections()) + 1, \"DEFAULT\")\n",
    "            self.ini_elements[\"DEFAULT\"] = {}\n",
    "\n",
    "    def display_section_contents(self, event=None):\n",
    "        if not self.active_ini:\n",
    "            msg.showerror(\"No File Open\", \"Please open an ini file first\")\n",
    "            return\n",
    "\n",
    "        chosen_section = self.section_select.get(self.section_select.curselection())\n",
    "\n",
    "        for child in self.right_frame.winfo_children():\n",
    "            child.pack_forget()\n",
    "\n",
    "        for key in sorted(self.active_ini[chosen_section]):\n",
    "            new_label = tk.Label(self.right_frame, text=key, font=(None, 12), bg=\"black\", fg=\"white\")\n",
    "            new_label.pack(fill=tk.X, side=tk.TOP, pady=(10,0))\n",
    "\n",
    "            try:\n",
    "                section_elements = self.ini_elements[chosen_section]\n",
    "            except KeyError:\n",
    "                section_elements = {}\n",
    "\n",
    "            try:\n",
    "                ini_element = section_elements[key]\n",
    "            except KeyError:\n",
    "                value = self.active_ini[chosen_section][key]\n",
    "\n",
    "                if value.isnumeric():\n",
    "                    spinbox_default = tk.IntVar(self.right_frame)\n",
    "                    spinbox_default.set(int(value))\n",
    "                    ini_element = tk.Spinbox(self.right_frame, from_=0, to=99999, textvariable=spinbox_default, bg=\"white\", fg=\"black\", justify=\"center\")\n",
    "                else:\n",
    "                    ini_element = tk.Entry(self.right_frame, bg=\"white\", fg=\"black\", justify=\"center\")\n",
    "                    ini_element.insert(0, value)\n",
    "\n",
    "                self.ini_elements[chosen_section][key] = ini_element\n",
    "\n",
    "            ini_element.pack(fill=tk.X, side=tk.TOP, pady=(0,10))\n",
    "\n",
    "        save_button = tk.Button(self.right_frame, text=\"Save Changes\", command=self.file_save)\n",
    "        save_button.pack(side=tk.BOTTOM, pady=(0,20))\n",
    "\n",
    "        add_button = tk.Button(self.right_frame, text=\"Add Item\", command=self.add_item_form)\n",
    "        add_button.pack(side=tk.BOTTOM, pady=(0,20))\n",
    "\n",
    "\n",
    "if __name__ == \"__main__\":\n",
    "    ini_editor = IniEditor()\n",
    "    ini_editor.mainloop()\n"
   ]
  },
  {
   "cell_type": "code",
   "execution_count": 136,
   "metadata": {},
   "outputs": [],
   "source": [
    "import tkinter as tk\n",
    "from tkinter import messagebox as msg\n",
    "from tkinter.ttk import Notebook\n",
    "\n",
    "import requests\n",
    "\n",
    "class TranslateBook(tk.Tk):\n",
    "    def __init__(self):\n",
    "        super().__init__()\n",
    "\n",
    "        self.title(\"Translation Book v1\")\n",
    "        self.geometry(\"500x300\")\n",
    "\n",
    "        self.notebook = Notebook(self)\n",
    "\n",
    "        english_tab = tk.Frame(self.notebook)\n",
    "        italian_tab = tk.Frame(self.notebook)\n",
    "\n",
    "        self.translate_button = tk.Button(english_tab, text=\"Translate\", command=self.translate)\n",
    "        self.translate_button.pack(side=tk.BOTTOM, fill=tk.X)\n",
    "\n",
    "        self.english_entry = tk.Text(english_tab, bg=\"white\", fg=\"black\")\n",
    "        self.english_entry.pack(side=tk.TOP, expand=1)\n",
    "\n",
    "        self.italian_copy_button = tk.Button(italian_tab, text=\"Copy to Clipboard\", command=self.copy_to_clipboard)\n",
    "        self.italian_copy_button.pack(side=tk.BOTTOM, fill=tk.X)\n",
    "\n",
    "        self.italian_translation = tk.StringVar(italian_tab)\n",
    "        self.italian_translation.set(\"\")\n",
    "\n",
    "        self.italian_label = tk.Label(italian_tab, textvar=self.italian_translation, bg=\"lightgrey\", fg=\"black\")\n",
    "        self.italian_label.pack(side=tk.TOP, fill=tk.BOTH, expand=1)\n",
    "\n",
    "        self.notebook.add(english_tab, text=\"English\")\n",
    "        self.notebook.add(italian_tab, text=\"Italian\")\n",
    "\n",
    "        self.notebook.pack(fill=tk.BOTH, expand=1)\n",
    "\n",
    "    def translate(self, target_language=\"it\", text=None):\n",
    "        if not text:\n",
    "            text = self.english_entry.get(1.0, tk.END)\n",
    "\n",
    "        url = \"https://translate.googleapis.com/translate_a/single?client=gtx&sl={}&tl={}&dt=t&q={}\".format(\"en\", target_language, text)\n",
    "\n",
    "        try:\n",
    "            r = requests.get(url)\n",
    "            r.raise_for_status()\n",
    "            translation = r.json()[0][0][0]\n",
    "            self.italian_translation.set(translation)\n",
    "            msg.showinfo(\"Translation Successful\", \"Text successfully translated\")\n",
    "        except Exception as e:\n",
    "            msg.showerror(\"Translation Failed\", str(e))\n",
    "\n",
    "    def copy_to_clipboard(self, text=None):\n",
    "        if not text:\n",
    "            text = self.italian_translation.get()\n",
    "\n",
    "        self.clipboard_clear()\n",
    "        self.clipboard_append(text)\n",
    "        msg.showinfo(\"Copied Successfully\", \"Text copied to clipboard\")\n",
    "\n",
    "\n",
    "if __name__ == \"__main__\":\n",
    "    translatebook = TranslateBook()\n",
    "    translatebook.mainloop()\n"
   ]
  },
  {
   "cell_type": "code",
   "execution_count": 137,
   "metadata": {},
   "outputs": [],
   "source": [
    "import tkinter as tk\n",
    "import tkinter.messagebox as msg\n",
    "\n",
    "class Todo(tk.Tk):\n",
    "    def __init__(self, tasks=None):\n",
    "        super().__init__()\n",
    "\n",
    "        if not tasks:\n",
    "            self.tasks = []\n",
    "        else:\n",
    "            self.tasks = tasks\n",
    "\n",
    "        self.tasks_canvas = tk.Canvas(self)\n",
    "\n",
    "        self.tasks_frame = tk.Frame(self.tasks_canvas)\n",
    "        self.text_frame = tk.Frame(self)\n",
    "\n",
    "        self.scrollbar = tk.Scrollbar(self.tasks_canvas, orient=\"vertical\", command=self.tasks_canvas.yview)\n",
    "\n",
    "        self.tasks_canvas.configure(yscrollcommand=self.scrollbar.set)\n",
    "\n",
    "        self.title(\"To-Do App v2\")\n",
    "        self.geometry(\"300x400\")\n",
    "\n",
    "        self.task_create = tk.Text(self.text_frame, height=3, bg=\"white\", fg=\"black\")\n",
    "\n",
    "        self.tasks_canvas.pack(side=tk.TOP, fill=tk.BOTH, expand=1)\n",
    "        self.scrollbar.pack(side=tk.RIGHT, fill=tk.Y)\n",
    "\n",
    "        self.canvas_frame = self.tasks_canvas.create_window((0, 0), window=self.tasks_frame, anchor=\"n\")\n",
    "\n",
    "        self.task_create.pack(side=tk.BOTTOM, fill=tk.X)\n",
    "        self.text_frame.pack(side=tk.BOTTOM, fill=tk.X)\n",
    "        self.task_create.focus_set()\n",
    "\n",
    "        todo1 = tk.Label(self.tasks_frame, text=\"--- Add Items Here ---\", bg=\"lightgrey\", fg=\"black\", pady=10)\n",
    "        todo1.bind(\"<Button-1>\", self.remove_task)\n",
    "\n",
    "        self.tasks.append(todo1)\n",
    "\n",
    "        for task in self.tasks:\n",
    "            task.pack(side=tk.TOP, fill=tk.X)\n",
    "\n",
    "        self.bind(\"<Return>\", self.add_task)\n",
    "        self.bind(\"<Configure>\", self.on_frame_configure)\n",
    "        self.bind_all(\"<MouseWheel>\", self.mouse_scroll)\n",
    "        self.bind_all(\"<Button-4>\", self.mouse_scroll)\n",
    "        self.bind_all(\"<Button-5>\", self.mouse_scroll)\n",
    "        self.tasks_canvas.bind(\"<Configure>\", self.task_width)\n",
    "\n",
    "        self.colour_schemes = [{\"bg\": \"lightgrey\", \"fg\": \"black\"}, {\"bg\": \"grey\", \"fg\": \"white\"}]\n",
    "\n",
    "    def add_task(self, event=None):\n",
    "        task_text = self.task_create.get(1.0,tk.END).strip()\n",
    "\n",
    "        if len(task_text) > 0:\n",
    "            new_task = tk.Label(self.tasks_frame, text=task_text, pady=10)\n",
    "\n",
    "            self.set_task_colour(len(self.tasks), new_task)\n",
    "\n",
    "            new_task.bind(\"<Button-1>\", self.remove_task)\n",
    "            new_task.pack(side=tk.TOP, fill=tk.X)\n",
    "\n",
    "            self.tasks.append(new_task)\n",
    "\n",
    "        self.task_create.delete(1.0, tk.END)\n",
    "\n",
    "    def remove_task(self, event):\n",
    "        task = event.widget\n",
    "        if msg.askyesno(\"Really Delete?\", \"Delete \" + task.cget(\"text\") + \"?\"):\n",
    "            self.tasks.remove(event.widget)\n",
    "            event.widget.destroy()\n",
    "            self.recolour_tasks()\n",
    "\n",
    "    def recolour_tasks(self):\n",
    "        for index, task in enumerate(self.tasks):\n",
    "            self.set_task_colour(index, task)\n",
    "\n",
    "    def set_task_colour(self, position, task):\n",
    "        _, task_style_choice = divmod(position, 2)\n",
    "\n",
    "        my_scheme_choice = self.colour_schemes[task_style_choice]\n",
    "\n",
    "        task.configure(bg=my_scheme_choice[\"bg\"])\n",
    "        task.configure(fg=my_scheme_choice[\"fg\"])\n",
    "\n",
    "    def on_frame_configure(self, event=None):\n",
    "        self.tasks_canvas.configure(scrollregion=self.tasks_canvas.bbox(\"all\"))\n",
    "\n",
    "    def task_width(self, event):\n",
    "        canvas_width = event.width\n",
    "        self.tasks_canvas.itemconfig(self.canvas_frame, width = canvas_width)\n",
    "\n",
    "    def mouse_scroll(self, event):\n",
    "        if event.delta:\n",
    "            self.tasks_canvas.yview_scroll(int(-1*(event.delta/120)), \"units\")\n",
    "        else:\n",
    "            if event.num == 5:\n",
    "                move = 1\n",
    "            else:\n",
    "                move = -1\n",
    "\n",
    "            self.tasks_canvas.yview_scroll(move, \"units\")\n",
    "\n",
    "if __name__ == \"__main__\":\n",
    "    todo = Todo()\n",
    "    todo.mainloop()\n"
   ]
  },
  {
   "cell_type": "code",
   "execution_count": null,
   "metadata": {},
   "outputs": [],
   "source": []
  }
 ],
 "metadata": {
  "kernelspec": {
   "display_name": "Python 3",
   "language": "python",
   "name": "python3"
  },
  "language_info": {
   "codemirror_mode": {
    "name": "ipython",
    "version": 3
   },
   "file_extension": ".py",
   "mimetype": "text/x-python",
   "name": "python",
   "nbconvert_exporter": "python",
   "pygments_lexer": "ipython3",
   "version": "3.8.5"
  }
 },
 "nbformat": 4,
 "nbformat_minor": 4
}
